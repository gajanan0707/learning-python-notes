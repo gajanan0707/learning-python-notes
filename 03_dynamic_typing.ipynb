{
 "cells": [
  {
   "cell_type": "markdown",
   "metadata": {},
   "source": [
    "### Dynamic typing\n",
    "\n",
    "Dynamic typing in Python refers to the language's ability to automatically determine the data type of a variable at runtime. \n",
    "\n",
    "Whenever I assign a variable a value like this → a = 3 → these steps happen\n",
    "\n",
    "1. An object is created with the value 3\n",
    "2. A variable a is created \n",
    "3. A variable a is linked to a new object with value 3 \n",
    "\n",
    "Links from variables to objects (a chunk of memory) are called references. A reference is a kind of association, a pointer in memory.\n",
    "\n",
    "Each object has two header fields: a *type designator* used to mark the object and a *reference counter* used to determine when it’s OK to reclaim the object. \n",
    "\n",
    "Variables don’t have a type, objects do. In this case:"
   ]
  },
  {
   "cell_type": "code",
   "execution_count": 1,
   "metadata": {
    "vscode": {
     "languageId": "plaintext"
    }
   },
   "outputs": [],
   "source": [
    "a = 3\n",
    "\n",
    "a = 'rita'\n",
    "\n",
    "a = 90.8"
   ]
  },
  {
   "cell_type": "markdown",
   "metadata": {},
   "source": [
    "Variable a didn’t change it’s type, instead python made the variable point to a different object each time. \n",
    "\n",
    "Whenever a name is assigned to a new object, the space held by the prior object is reclaimed if it’s not referenced by any other name or object. The automatic reclamation of object’s space is known as *garbage collection*. In the previous case, each time a is assigned to a different object, Python reclaims the prior object’s space. \n",
    "\n",
    "Python accomplishes this by keeping counter in every object that keeps track of the number of references currently pointing to an object. A soon as the memory drops to 0, the object’s memory is reclaimed. \n",
    "\n",
    "Python’s garbage collector mainly applies to reference counter."
   ]
  },
  {
   "cell_type": "code",
   "execution_count": 2,
   "metadata": {},
   "outputs": [],
   "source": [
    "a = 3\n",
    "b = 3"
   ]
  },
  {
   "cell_type": "markdown",
   "metadata": {},
   "source": [
    "In this case, a and b have a shared reference (or just a shared object). Both variables point to the same object. In case a = 7, b would still point to 3..\n",
    "\n",
    "However!\n",
    "\n",
    "Python’s mutable types are lists, dictionaries and sets. And here, objects can change which can be a problem if few variables point to the same list e.g. If I change an object by assigning a new value to one of the variables, all the other variables"
   ]
  },
  {
   "cell_type": "markdown",
   "metadata": {},
   "source": [
    "### ==   vs.   is "
   ]
  },
  {
   "cell_type": "code",
   "execution_count": 5,
   "metadata": {},
   "outputs": [
    {
     "name": "stdout",
     "output_type": "stream",
     "text": [
      "True\n",
      "False\n"
     ]
    }
   ],
   "source": [
    "# In case I have two lists like this:\n",
    "L = [1,2,3]\n",
    "M = [1,2,3]\n",
    "\n",
    "# == operator tests whether two referenced objects have the same values\n",
    "# L == M \n",
    "\n",
    "# tests whether two variables point to the same object\n",
    "# L is M \n",
    "\n",
    "print(L == M) # will return True\n",
    "print(L is M) # will return False "
   ]
  },
  {
   "cell_type": "markdown",
   "metadata": {},
   "source": [
    "L and M lists reference two distinct objects with distinct space in memory but with the same value.\n",
    "\n",
    "Also if I were to reference the same object like this, than it would be the same object:"
   ]
  },
  {
   "cell_type": "code",
   "execution_count": 6,
   "metadata": {},
   "outputs": [],
   "source": [
    "L = [1,2,3]\n",
    "M = L"
   ]
  },
  {
   "cell_type": "code",
   "execution_count": 7,
   "metadata": {},
   "outputs": [
    {
     "data": {
      "text/plain": [
       "True"
      ]
     },
     "execution_count": 7,
     "metadata": {},
     "output_type": "execute_result"
    }
   ],
   "source": [
    "#  On the other hand, with small integers, things will look differently:\n",
    "X = 42\n",
    "Y = 42\n",
    "X == Y # True\n",
    "X is Y # True because of \"caching\" or "
   ]
  },
  {
   "cell_type": "markdown",
   "metadata": {},
   "source": [
    "In Python, getrefcount() is a function from the sys module that returns the reference count of an object."
   ]
  },
  {
   "cell_type": "code",
   "execution_count": 8,
   "metadata": {},
   "outputs": [
    {
     "name": "stdout",
     "output_type": "stream",
     "text": [
      "2\n",
      "3\n"
     ]
    }
   ],
   "source": [
    "from sys import getrefcount\n",
    "\n",
    "a = []\n",
    "print(getrefcount(a))  # This might return 2\n",
    "\n",
    "b = a\n",
    "print(getrefcount(a))  # This will likely return 3"
   ]
  },
  {
   "cell_type": "code",
   "execution_count": null,
   "metadata": {},
   "outputs": [],
   "source": []
  }
 ],
 "metadata": {
  "kernelspec": {
   "display_name": "Python 3 (ipykernel)",
   "language": "python",
   "name": "python3"
  },
  "language_info": {
   "codemirror_mode": {
    "name": "ipython",
    "version": 3
   },
   "file_extension": ".py",
   "mimetype": "text/x-python",
   "name": "python",
   "nbconvert_exporter": "python",
   "pygments_lexer": "ipython3",
   "version": "3.9.17"
  }
 },
 "nbformat": 4,
 "nbformat_minor": 2
}
