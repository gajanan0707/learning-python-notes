{
 "cells": [
  {
   "cell_type": "markdown",
   "metadata": {},
   "source": [
    "### Chapter 1 - General stuff\n",
    "\n",
    "**Why do people use Python?** \n",
    "\n",
    "1. Software Quality\n",
    "2. Efficient language and easy to compile\n",
    "3. Can run on all major computer platforms\n",
    "4. Great builtin standard library → for example NumPy is known to be better than matlab\n",
    "5. Can be easily integrated with other programs written in Java, C etc\n",
    "6. Enjoyable experience\n",
    "\n",
    "**What type of language is Python?**\n",
    "\n",
    "It’s a general purpose programming language that blends procedural, functional, and object oriented paradigms.\n",
    "\n",
    "**Main downside of Python?**\n",
    "\n",
    "Ir’s execution speed may not always be as fast as that of a fully compiled and lower level languages such as C and C++\n",
    "\n",
    "Standard implementation of Python is written in portable ANSI C.\n",
    "\n",
    "### Chapter 2 - How python runs programs\n",
    "\n",
    "Python is a programming language and an interpreter that executes programs. Interpreter is a layer of software logic between your code and the computer hardware and it’s a program that runs the Python programs you write. \n",
    "\n",
    "Python program is a text file that contains Python statements. \n",
    "\n",
    "When I run a Python script (or a source code) it’s first compiled to something called “byte code” (low level, platform independent representation of the source code) and then routed to “virtual machine”.\n",
    "\n",
    "files with .pyc extension will appear in my folder which stands for compiled python code (or byte code). And Python can run a program even if all it can find are .pyc files and the original .py files are missing. \n",
    "\n",
    "PVM is just a big code loop that iterated through your byte code instructions, one by one, to carry out their operations. PVM is the runtime engine of Python and it’s the component that truly runs the scripts. \n",
    "\n",
    "Source code (.py) → Byte Code (.pyc) → Python Virtual Machine (PVM)  \n",
    "\n",
    "Frozen binaries are standalone executables from the Python programs. It’s turning an [app.py](http://app.py) into app.exe, a program that can be executed without the need to install Python. The term \"frozen\" in \"frozen binaries\" refers to the idea that your Python script and all its dependencies are \"frozen\" into a single package, along with the Python interpreter.\n",
    "\n",
    "### Chapter 3 - Running a program\n",
    "\n",
    "Typing “python” at my system shell starts an interactive Python session. And I can run any python statements and expressions to run it immediately. This is the interactive prompt. To exit an interactive session type ctrl+Z\n",
    "\n",
    "Interactive prompt is a good way to experiment with python and to check what a certain statement do. \n",
    "\n",
    "Will save the output of the script1.py into that txt file and it’s known as a stream redirection"
   ]
  },
  {
   "cell_type": "code",
   "execution_count": null,
   "metadata": {
    "vscode": {
     "languageId": "powershell"
    }
   },
   "outputs": [],
   "source": [
    "python3 script1.py > saveit.txt "
   ]
  },
  {
   "cell_type": "markdown",
   "metadata": {},
   "source": [
    "***“To Qualify”*** in Python means ***to specify*** a more complete ***name for variables***, functions or classes by including namespace or a module they belong to. \n",
    "\n",
    "A module is a package of variable names, known as a namespace (container that holds a set of identifiers like variables, functions, and classes, and allows them to be organized in a way that's easy to understand and manage). Names within the package are attributes. An attribute is simply a variable name that is attached to a specific object. Methods are function attributes."
   ]
  },
  {
   "cell_type": "code",
   "execution_count": null,
   "metadata": {},
   "outputs": [],
   "source": [
    "# Let’s say there is a small, simple module called “text”:\n",
    "\n",
    "title = \"Life of Brian\"\n",
    "\n",
    "# It's possible to access the title attribute in a different app in 2 ways:\n",
    "\n",
    "import text\n",
    "text.title # Use its attribute names '.' to qualify \n",
    "\n",
    "# or\n",
    "\n",
    "from text import title \n",
    "title # Use the name directly and no need to qualify "
   ]
  },
  {
   "cell_type": "markdown",
   "metadata": {},
   "source": [
    "“from…import” copies module’s attributes such that they become simple variables\n",
    "\n",
    "Each module is a self-contained namespace and one module cannot see the defined in another file. The whole purpose of this is to avoid name collisions."
   ]
  }
 ],
 "metadata": {
  "language_info": {
   "name": "python"
  }
 },
 "nbformat": 4,
 "nbformat_minor": 2
}
