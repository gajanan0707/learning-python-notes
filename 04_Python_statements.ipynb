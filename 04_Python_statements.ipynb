{
 "cells": [
  {
   "cell_type": "markdown",
   "metadata": {},
   "source": [
    "# Python statements\n",
    "\n",
    "1. Programs are composed of modules\n",
    "2. Modules contain statements\n",
    "3. Statements contain expressions\n",
    "4. Expressions create and process objects"
   ]
  },
  {
   "cell_type": "markdown",
   "metadata": {},
   "source": [
    "### Asignment Statements\n",
    "\n",
    "Assignement statement example:\n",
    "x = 1\n",
    "\n",
    "x is a target of the assignement\n",
    "1 is the object that's being assigned\n",
    "\n",
    "- assignements create object references\n",
    "- names are created when first assigned (no need to predeclare names ahead of time)\n",
    "- names must be assigned before being referenced\n",
    "- some assignements are performed imlicitly (not just through = sign)"
   ]
  },
  {
   "cell_type": "markdown",
   "metadata": {},
   "source": [
    "### Assignment statement forms"
   ]
  },
  {
   "cell_type": "code",
   "execution_count": 1,
   "metadata": {
    "collapsed": true
   },
   "outputs": [
    {
     "name": "stdout",
     "output_type": "stream",
     "text": [
      "1 2\n"
     ]
    }
   ],
   "source": [
    "# basic form\n",
    "nudge = 1\n",
    "wink = 2\n",
    "print(nudge, wink)"
   ]
  },
  {
   "cell_type": "code",
   "execution_count": 2,
   "metadata": {
    "collapsed": true
   },
   "outputs": [
    {
     "name": "stdout",
     "output_type": "stream",
     "text": [
      "1 2\n"
     ]
    }
   ],
   "source": [
    "# tuple assignement\n",
    "A, B = nudge, wink\n",
    "print(A, B)"
   ]
  },
  {
   "cell_type": "code",
   "execution_count": 3,
   "metadata": {
    "collapsed": true
   },
   "outputs": [
    {
     "name": "stdout",
     "output_type": "stream",
     "text": [
      "1 2\n"
     ]
    }
   ],
   "source": [
    "# list assignement\n",
    "[C, D] = [nudge, wink]\n",
    "print(C, D)"
   ]
  },
  {
   "cell_type": "code",
   "execution_count": 4,
   "metadata": {
    "collapsed": true
   },
   "outputs": [
    {
     "name": "stdout",
     "output_type": "stream",
     "text": [
      "2 1\n"
     ]
    }
   ],
   "source": [
    "# to swap values\n",
    "nudge = 1\n",
    "wink = 2\n",
    "nudge, wink = wink, nudge\n",
    "print(nudge, wink)"
   ]
  },
  {
   "cell_type": "code",
   "execution_count": 8,
   "metadata": {
    "collapsed": true
   },
   "outputs": [
    {
     "name": "stdout",
     "output_type": "stream",
     "text": [
      "s p a m\n",
      "z\n"
     ]
    },
    {
     "ename": "ValueError",
     "evalue": "too many values to unpack (expected 3)",
     "output_type": "error",
     "traceback": [
      "\u001b[0;31m---------------------------------------------------------------------------\u001b[0m",
      "\u001b[0;31mValueError\u001b[0m                                Traceback (most recent call last)",
      "Cell \u001b[0;32mIn[8], line 10\u001b[0m\n\u001b[1;32m      7\u001b[0m \u001b[38;5;28mprint\u001b[39m(x)\n\u001b[1;32m      9\u001b[0m \u001b[38;5;66;03m# number has to be the same on both sides, otherwise it'll throw an error\u001b[39;00m\n\u001b[0;32m---> 10\u001b[0m n,l,p \u001b[38;5;241m=\u001b[39m \u001b[38;5;124m'\u001b[39m\u001b[38;5;124mspam\u001b[39m\u001b[38;5;124m'\u001b[39m\n\u001b[1;32m     11\u001b[0m \u001b[38;5;28mprint\u001b[39m(n,l,p)\n",
      "\u001b[0;31mValueError\u001b[0m: too many values to unpack (expected 3)"
     ]
    }
   ],
   "source": [
    "# sequence unpacking assignment \n",
    "a, b, c, d = 'spam'\n",
    "print(a,b,c,d)\n",
    "\n",
    "# supports any iterable objects (not just sequences)\n",
    "[x, y, z] = 'zar'\n",
    "print(x)\n",
    "\n",
    "# number has to be the same on both sides, otherwise it'll throw an error\n",
    "n,l,p = 'spam'\n",
    "print(n,l,p)"
   ]
  },
  {
   "cell_type": "code",
   "execution_count": 9,
   "metadata": {
    "collapsed": true
   },
   "outputs": [
    {
     "name": "stdout",
     "output_type": "stream",
     "text": [
      "S P AM\n"
     ]
    }
   ],
   "source": [
    "# nested sequences\n",
    "((a,b),c) = ('SP', 'AM')\n",
    "print(a,b,c)"
   ]
  },
  {
   "cell_type": "code",
   "execution_count": 10,
   "metadata": {
    "collapsed": true
   },
   "outputs": [
    {
     "name": "stdout",
     "output_type": "stream",
     "text": [
      "0 1\n"
     ]
    }
   ],
   "source": [
    "# sequence unpacking with range function\n",
    "red, green, blue = range(3)\n",
    "print(red, green)"
   ]
  },
  {
   "cell_type": "code",
   "execution_count": 13,
   "metadata": {
    "collapsed": true
   },
   "outputs": [
    {
     "name": "stdout",
     "output_type": "stream",
     "text": [
      "1\n",
      "[2, 3, 4]\n"
     ]
    }
   ],
   "source": [
    "# extended sequence unpacking\n",
    "seq = [1,2,3,4]\n",
    "a, *b = seq\n",
    "\n",
    "# a will print the first element and b the rest of the sequence\n",
    "print(a)\n",
    "print(b)\n"
   ]
  },
  {
   "cell_type": "code",
   "execution_count": 14,
   "metadata": {
    "collapsed": true
   },
   "outputs": [
    {
     "name": "stdout",
     "output_type": "stream",
     "text": [
      "[1, 2, 3]\n",
      "4\n"
     ]
    }
   ],
   "source": [
    "# here the order gets reversed and b prints the last character\n",
    "*a, b = seq\n",
    "print(a)\n",
    "print(b)"
   ]
  },
  {
   "cell_type": "code",
   "execution_count": 15,
   "metadata": {
    "collapsed": true
   },
   "outputs": [
    {
     "name": "stdout",
     "output_type": "stream",
     "text": [
      "1 [2, 3, 4, 5, 6] 7\n"
     ]
    }
   ],
   "source": [
    "example = [1,2,3,4,5,6,7]\n",
    "a, *b, c = example\n",
    "print(a,b,c)"
   ]
  },
  {
   "cell_type": "code",
   "execution_count": null,
   "metadata": {
    "collapsed": true
   },
   "outputs": [],
   "source": [
    "# * starred name can be a single item but it's always assigned a list\n",
    "# if there is nothing left to match it, it will return an empty list"
   ]
  },
  {
   "cell_type": "code",
   "execution_count": 17,
   "metadata": {
    "collapsed": true
   },
   "outputs": [
    {
     "name": "stdout",
     "output_type": "stream",
     "text": [
      "spam spam spam\n",
      "[42] [42]\n"
     ]
    }
   ],
   "source": [
    "# multiple-target assignment \n",
    "# one object shared by 3 variables\n",
    "a=b=c='spam'\n",
    "print(a,b,c)\n",
    "\n",
    "# because a and b share reference to the same object, changing one will change the other as well\n",
    "a=b=[]\n",
    "b.append(42)\n",
    "print(a,b)"
   ]
  },
  {
   "cell_type": "code",
   "execution_count": 18,
   "metadata": {
    "collapsed": true
   },
   "outputs": [
    {
     "name": "stdout",
     "output_type": "stream",
     "text": [
      "2\n",
      "3\n"
     ]
    }
   ],
   "source": [
    "# augmented assignments\n",
    "# x = x + 1 is the same as writing x += 1\n",
    "\n",
    "x = 1\n",
    "x = x +1  # traditional \n",
    "print(x)\n",
    "x += 1  # augmented\n",
    "print(x)\n",
    "\n",
    "# this will change the object in place"
   ]
  },
  {
   "cell_type": "markdown",
   "metadata": {},
   "source": [
    "### Variable Names Rules\n",
    "\n",
    "- names should start either with an underscore or letter followed by any number of digits, letters and underscores\n",
    "- case matters: SPAM and spam are not the same\n",
    "- reserved words are off-limits (like class, is, or...)\n",
    "\n",
    "### Naming Conventions\n",
    "\n",
    "- names that begin with a single underscore are not imported by a from module\n",
    "- names that have two leading and trailing underscores are system defined names and have special meaning to the interpreter\n",
    "- names that begin with two underscores and do not end with two more are localized \n"
   ]
  },
  {
   "cell_type": "markdown",
   "metadata": {},
   "source": [
    "By default, print() sends text to the *standard output stream* but sometimes it's useful to send it elsewhere, to a text file for example. "
   ]
  },
  {
   "cell_type": "code",
   "execution_count": 1,
   "metadata": {
    "collapsed": true
   },
   "outputs": [
    {
     "name": "stdout",
     "output_type": "stream",
     "text": [
      "hello world\n"
     ]
    },
    {
     "data": {
      "text/plain": [
       "12"
      ]
     },
     "execution_count": 1,
     "metadata": {},
     "output_type": "execute_result"
    }
   ],
   "source": [
    "# writing print() is equal to this:\n",
    "import sys\n",
    "sys.stdout.write('hello world\\n')"
   ]
  },
  {
   "cell_type": "code",
   "execution_count": 10,
   "metadata": {},
   "outputs": [],
   "source": [
    "# to save the output of the console into the\n",
    "log = open('log2.txt', 'w')\n",
    "print(1,2,3, file=log)\n",
    "log.close()\n",
    "print(4,5,6)\n",
    "print(open('log2.txt').read())"
   ]
  },
  {
   "cell_type": "code",
   "execution_count": 8,
   "metadata": {
    "collapsed": true
   },
   "outputs": [],
   "source": [
    "# so to redirect prints to a file and to save the output there instead\n",
    "sys.stdout = open('log.txt', 'a')\n",
    "print('a + b = c')"
   ]
  },
  {
   "cell_type": "code",
   "execution_count": 9,
   "metadata": {},
   "outputs": [
    {
     "name": "stderr",
     "output_type": "stream",
     "text": [
      "BadBadBadBadBadBadBadBad"
     ]
    },
    {
     "data": {
      "text/plain": [
       "24"
      ]
     },
     "execution_count": 9,
     "metadata": {},
     "output_type": "execute_result"
    }
   ],
   "source": [
    "# an extended form of *print* is also used to print error messages to standard error stream available as sys.stderr \n",
    "sys.stderr.write('Bad' * 8)"
   ]
  }
 ],
 "metadata": {
  "kernelspec": {
   "display_name": "Python 3 (ipykernel)",
   "language": "python",
   "name": "python3"
  },
  "language_info": {
   "codemirror_mode": {
    "name": "ipython",
    "version": 3
   },
   "file_extension": ".py",
   "mimetype": "text/x-python",
   "name": "python",
   "nbconvert_exporter": "python",
   "pygments_lexer": "ipython3",
   "version": "3.9.17"
  }
 },
 "nbformat": 4,
 "nbformat_minor": 2
}
