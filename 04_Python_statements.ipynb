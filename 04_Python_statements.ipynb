{
 "cells": [
  {
   "cell_type": "markdown",
   "metadata": {},
   "source": [
    "# Python statements\n",
    "\n",
    "1. Programs are composed of modules\n",
    "2. Modules contain statements\n",
    "3. Statements contain expressions\n",
    "4. Expressions create and process objects"
   ]
  },
  {
   "cell_type": "code",
   "execution_count": null,
   "metadata": {},
   "outputs": [],
   "source": []
  },
  {
   "cell_type": "markdown",
   "metadata": {},
   "source": [
    "### Statements rules\n",
    "\n",
    "1. Statements execute one after another as a sequence but certain statements make the interpreter jump around the code. These statements are called *control-flow statements* and they fall into following categories:\n",
    "\n",
    "- if statements: These are used for decision-making operations. The code block under an if statement will execute if the specified condition is true. \n",
    "- For Loops: Used for iterating over a sequence (like a list, tuple, dictionary, set, or string). It's commonly used to execute a block of code for each item in the sequence.\n",
    "- While Loops: This loop repeatedly executes the program as long as the given condition is true. When the condition becomes false, the loop terminates.\n",
    "- Break Statement: Used to break out of the current closest enclosing loop.\n",
    "- Continue Statement: Skips the current iteration of a loop and moves to the next iteration.\n",
    "- Pass Statement: It's a null statement in Python. It's used when a statement is required syntactically, but you do not want any command or code to execute.\n",
    "\n",
    "2. Block and statement boundaries are detected automatically\n",
    "3. All Compound statements consist of header + ':' + indented statements\n",
    "4. Blank lines, spaces, and comments are usually ignored\n",
    "5. Docstrings are ignored but saved and displayed by tools\n"
   ]
  },
  {
   "cell_type": "markdown",
   "metadata": {},
   "source": [
    "### Asignment Statements\n",
    "\n",
    "Assignement statement example:\n",
    "x = 1\n",
    "\n",
    "x is a target of the assignement\n",
    "1 is the object that's being assigned\n",
    "\n",
    "- assignements create object references\n",
    "- names are created when first assigned (no need to predeclare names ahead of time)\n",
    "- names must be assigned before being referenced\n",
    "- some assignements are performed imlicitly (not just through = sign)"
   ]
  },
  {
   "cell_type": "markdown",
   "metadata": {},
   "source": [
    "### Assignment statement forms"
   ]
  },
  {
   "cell_type": "code",
   "execution_count": 1,
   "metadata": {
    "collapsed": true
   },
   "outputs": [
    {
     "name": "stdout",
     "output_type": "stream",
     "text": [
      "1 2\n"
     ]
    }
   ],
   "source": [
    "# basic form\n",
    "nudge = 1\n",
    "wink = 2\n",
    "print(nudge, wink)"
   ]
  },
  {
   "cell_type": "code",
   "execution_count": 2,
   "metadata": {
    "collapsed": true
   },
   "outputs": [
    {
     "name": "stdout",
     "output_type": "stream",
     "text": [
      "1 2\n"
     ]
    }
   ],
   "source": [
    "# tuple assignement\n",
    "A, B = nudge, wink\n",
    "print(A, B)"
   ]
  },
  {
   "cell_type": "code",
   "execution_count": 3,
   "metadata": {
    "collapsed": true
   },
   "outputs": [
    {
     "name": "stdout",
     "output_type": "stream",
     "text": [
      "1 2\n"
     ]
    }
   ],
   "source": [
    "# list assignement\n",
    "[C, D] = [nudge, wink]\n",
    "print(C, D)"
   ]
  },
  {
   "cell_type": "code",
   "execution_count": 4,
   "metadata": {
    "collapsed": true
   },
   "outputs": [
    {
     "name": "stdout",
     "output_type": "stream",
     "text": [
      "2 1\n"
     ]
    }
   ],
   "source": [
    "# to swap values\n",
    "nudge = 1\n",
    "wink = 2\n",
    "nudge, wink = wink, nudge\n",
    "print(nudge, wink)"
   ]
  },
  {
   "cell_type": "code",
   "execution_count": 8,
   "metadata": {
    "collapsed": true
   },
   "outputs": [
    {
     "name": "stdout",
     "output_type": "stream",
     "text": [
      "s p a m\n",
      "z\n"
     ]
    },
    {
     "ename": "ValueError",
     "evalue": "too many values to unpack (expected 3)",
     "output_type": "error",
     "traceback": [
      "\u001b[0;31m---------------------------------------------------------------------------\u001b[0m",
      "\u001b[0;31mValueError\u001b[0m                                Traceback (most recent call last)",
      "Cell \u001b[0;32mIn[8], line 10\u001b[0m\n\u001b[1;32m      7\u001b[0m \u001b[38;5;28mprint\u001b[39m(x)\n\u001b[1;32m      9\u001b[0m \u001b[38;5;66;03m# number has to be the same on both sides, otherwise it'll throw an error\u001b[39;00m\n\u001b[0;32m---> 10\u001b[0m n,l,p \u001b[38;5;241m=\u001b[39m \u001b[38;5;124m'\u001b[39m\u001b[38;5;124mspam\u001b[39m\u001b[38;5;124m'\u001b[39m\n\u001b[1;32m     11\u001b[0m \u001b[38;5;28mprint\u001b[39m(n,l,p)\n",
      "\u001b[0;31mValueError\u001b[0m: too many values to unpack (expected 3)"
     ]
    }
   ],
   "source": [
    "# sequence unpacking assignment \n",
    "a, b, c, d = 'spam'\n",
    "print(a,b,c,d)\n",
    "\n",
    "# supports any iterable objects (not just sequences)\n",
    "[x, y, z] = 'zar'\n",
    "print(x)\n",
    "\n",
    "# number has to be the same on both sides, otherwise it'll throw an error\n",
    "n,l,p = 'spam'\n",
    "print(n,l,p)"
   ]
  },
  {
   "cell_type": "code",
   "execution_count": 9,
   "metadata": {
    "collapsed": true
   },
   "outputs": [
    {
     "name": "stdout",
     "output_type": "stream",
     "text": [
      "S P AM\n"
     ]
    }
   ],
   "source": [
    "# nested sequences\n",
    "((a,b),c) = ('SP', 'AM')\n",
    "print(a,b,c)"
   ]
  },
  {
   "cell_type": "code",
   "execution_count": 10,
   "metadata": {
    "collapsed": true
   },
   "outputs": [
    {
     "name": "stdout",
     "output_type": "stream",
     "text": [
      "0 1\n"
     ]
    }
   ],
   "source": [
    "# sequence unpacking with range function\n",
    "red, green, blue = range(3)\n",
    "print(red, green)"
   ]
  },
  {
   "cell_type": "code",
   "execution_count": 13,
   "metadata": {
    "collapsed": true
   },
   "outputs": [
    {
     "name": "stdout",
     "output_type": "stream",
     "text": [
      "1\n",
      "[2, 3, 4]\n"
     ]
    }
   ],
   "source": [
    "# extended sequence unpacking\n",
    "seq = [1,2,3,4]\n",
    "a, *b = seq\n",
    "\n",
    "# a will print the first element and b the rest of the sequence\n",
    "print(a)\n",
    "print(b)\n"
   ]
  },
  {
   "cell_type": "code",
   "execution_count": 14,
   "metadata": {
    "collapsed": true
   },
   "outputs": [
    {
     "name": "stdout",
     "output_type": "stream",
     "text": [
      "[1, 2, 3]\n",
      "4\n"
     ]
    }
   ],
   "source": [
    "# here the order gets reversed and b prints the last character\n",
    "*a, b = seq\n",
    "print(a)\n",
    "print(b)"
   ]
  },
  {
   "cell_type": "code",
   "execution_count": 15,
   "metadata": {
    "collapsed": true
   },
   "outputs": [
    {
     "name": "stdout",
     "output_type": "stream",
     "text": [
      "1 [2, 3, 4, 5, 6] 7\n"
     ]
    }
   ],
   "source": [
    "example = [1,2,3,4,5,6,7]\n",
    "a, *b, c = example\n",
    "print(a,b,c)"
   ]
  },
  {
   "cell_type": "code",
   "execution_count": null,
   "metadata": {
    "collapsed": true
   },
   "outputs": [],
   "source": [
    "# * starred name can be a single item but it's always assigned a list\n",
    "# if there is nothing left to match it, it will return an empty list"
   ]
  },
  {
   "cell_type": "code",
   "execution_count": 17,
   "metadata": {
    "collapsed": true
   },
   "outputs": [
    {
     "name": "stdout",
     "output_type": "stream",
     "text": [
      "spam spam spam\n",
      "[42] [42]\n"
     ]
    }
   ],
   "source": [
    "# multiple-target assignment \n",
    "# one object shared by 3 variables\n",
    "a=b=c='spam'\n",
    "print(a,b,c)\n",
    "\n",
    "# because a and b share reference to the same object, changing one will change the other as well\n",
    "a=b=[]\n",
    "b.append(42)\n",
    "print(a,b)"
   ]
  },
  {
   "cell_type": "code",
   "execution_count": 18,
   "metadata": {
    "collapsed": true
   },
   "outputs": [
    {
     "name": "stdout",
     "output_type": "stream",
     "text": [
      "2\n",
      "3\n"
     ]
    }
   ],
   "source": [
    "# augmented assignments\n",
    "# x = x + 1 is the same as writing x += 1\n",
    "\n",
    "x = 1\n",
    "x = x +1  # traditional \n",
    "print(x)\n",
    "x += 1  # augmented\n",
    "print(x)\n",
    "\n",
    "# this will change the object in place"
   ]
  },
  {
   "cell_type": "markdown",
   "metadata": {},
   "source": [
    "### Variable Names Rules\n",
    "\n",
    "- names should start either with an underscore or letter followed by any number of digits, letters and underscores\n",
    "- case matters: SPAM and spam are not the same\n",
    "- reserved words are off-limits (like class, is, or...)\n",
    "\n",
    "### Naming Conventions\n",
    "\n",
    "- names that begin with a single underscore are not imported by a from module\n",
    "- names that have two leading and trailing underscores are system defined names and have special meaning to the interpreter\n",
    "- names that begin with two underscores and do not end with two more are localized \n"
   ]
  },
  {
   "cell_type": "markdown",
   "metadata": {},
   "source": [
    "By default, print() sends text to the *standard output stream* but sometimes it's useful to send it elsewhere, to a text file for example. "
   ]
  },
  {
   "cell_type": "code",
   "execution_count": 1,
   "metadata": {
    "collapsed": true
   },
   "outputs": [
    {
     "name": "stdout",
     "output_type": "stream",
     "text": [
      "hello world\n"
     ]
    },
    {
     "data": {
      "text/plain": [
       "12"
      ]
     },
     "execution_count": 1,
     "metadata": {},
     "output_type": "execute_result"
    }
   ],
   "source": [
    "# writing print() is equal to this:\n",
    "import sys\n",
    "sys.stdout.write('hello world\\n')"
   ]
  },
  {
   "cell_type": "code",
   "execution_count": 10,
   "metadata": {},
   "outputs": [],
   "source": [
    "# to save the output of the console into the\n",
    "log = open('log2.txt', 'w')\n",
    "print(1,2,3, file=log)\n",
    "log.close()\n",
    "print(4,5,6)\n",
    "print(open('log2.txt').read())"
   ]
  },
  {
   "cell_type": "code",
   "execution_count": 8,
   "metadata": {
    "collapsed": true
   },
   "outputs": [],
   "source": [
    "# so to redirect prints to a file and to save the output there instead\n",
    "sys.stdout = open('log.txt', 'a')\n",
    "print('a + b = c')"
   ]
  },
  {
   "cell_type": "code",
   "execution_count": 9,
   "metadata": {},
   "outputs": [
    {
     "name": "stderr",
     "output_type": "stream",
     "text": [
      "BadBadBadBadBadBadBadBad"
     ]
    },
    {
     "data": {
      "text/plain": [
       "24"
      ]
     },
     "execution_count": 9,
     "metadata": {},
     "output_type": "execute_result"
    }
   ],
   "source": [
    "# an extended form of *print* is also used to print error messages to standard error stream available as sys.stderr \n",
    "sys.stderr.write('Bad' * 8)"
   ]
  },
  {
   "cell_type": "markdown",
   "metadata": {},
   "source": [
    "### IF Statements\n",
    "\n",
    "- Python if statements select actions to perform \n",
    "- only initial if test and its associated block is a requirement, everything else is optional"
   ]
  },
  {
   "cell_type": "code",
   "execution_count": null,
   "metadata": {},
   "outputs": [],
   "source": [
    "x = 'killer rabbit'\n",
    "\n",
    "# mutliway branching\n",
    "if x == 'roger':\n",
    "    print('shave and a haircut')\n",
    "elif x == 'bugs':                 # optional block\n",
    "    print(\"what's up?\")\n",
    "else:                             # optional block\n",
    "    print('run away!')"
   ]
  },
  {
   "cell_type": "code",
   "execution_count": 1,
   "metadata": {},
   "outputs": [
    {
     "name": "stdout",
     "output_type": "stream",
     "text": [
      "1.99\n"
     ]
    }
   ],
   "source": [
    "# a dictionary-based switch\n",
    "# an alternative to multiple if-elif-else statement\n",
    "choice = 'ham'\n",
    "print({'spam': 1.25,\n",
    "      'eggs': 1.99,\n",
    "       'bacon': 1.10,\n",
    "       'ham': 1.99}[choice])"
   ]
  },
  {
   "cell_type": "code",
   "execution_count": 2,
   "metadata": {},
   "outputs": [
    {
     "name": "stdout",
     "output_type": "stream",
     "text": [
      "1.25\n"
     ]
    }
   ],
   "source": [
    "# the problem with dictionary based switch is that there isn't a way to print that a choice isn't found\n",
    "# here's a way to solve that issue\n",
    "branch = {\n",
    "    'spam': 1.25,\n",
    "    'ham': 1.99,\n",
    "    'eggs': 0.99\n",
    "}\n",
    "\n",
    "print(branch.get('spam', 'Bad Choice!'))"
   ]
  },
  {
   "cell_type": "code",
   "execution_count": 3,
   "metadata": {},
   "outputs": [
    {
     "name": "stdout",
     "output_type": "stream",
     "text": [
      "Bad Choice!\n"
     ]
    }
   ],
   "source": [
    "print(branch.get('bacon', 'Bad Choice!'))"
   ]
  },
  {
   "cell_type": "code",
   "execution_count": 4,
   "metadata": {},
   "outputs": [
    {
     "name": "stdout",
     "output_type": "stream",
     "text": [
      "Bad Choice!\n"
     ]
    }
   ],
   "source": [
    "# if statement is another way to solve the issue\n",
    "choice = 'bacon'\n",
    "if choice in branch:\n",
    "    print(branch[choice])\n",
    "else: \n",
    "    print('Bad Choice!')"
   ]
  },
  {
   "cell_type": "code",
   "execution_count": null,
   "metadata": {},
   "outputs": [],
   "source": [
    "# ternary expression\n",
    "\n",
    "# instead of writing this\n",
    "if X:\n",
    "    A = Y\n",
    "else:\n",
    "    A = Z\n",
    "# write this\n",
    "A = Y if X else Z"
   ]
  },
  {
   "cell_type": "markdown",
   "metadata": {},
   "source": [
    "### Boolean expression operators\n",
    "\n",
    "X and Y (is tru if both X and Y are true)\n",
    "X or Y (is true if either X or Y is true)\n",
    "not X (is true if X is False)"
   ]
  },
  {
   "cell_type": "markdown",
   "metadata": {},
   "source": [
    "### True of False Value?\n",
    "\n",
    "- Boolean Values: True is true and False is false.\n",
    "\n",
    "- Numbers: Zero (0, 0.0, 0j, etc.) -> False. All other numbers are True, including negative numbers.\n",
    "\n",
    "- Any empty collection ('', [], (), {}, set()) -> False. Any collection with at least one element is True.\n",
    "\n",
    "- None: -> False.\n",
    "\n",
    "- Custom Objects: By default, instances of custom classes are True. However, this can be overridden by defining the __bool__() method or the __len__() method in the class. If __bool__() is defined, Python uses it to determine the truth value of an instance. If __bool__() is not defined but __len__() is, the object is True if its length is nonzero. If neither is defined, the instance is always True."
   ]
  },
  {
   "cell_type": "markdown",
   "metadata": {},
   "source": [
    "### While and For loops\n",
    "\n",
    "While statement is the most general iteration construct in the language. It repeatedly executes a block of statements as long as the top keeps evaluating to a true value. If the test is false to begin with, the body never runs and the while statement is skipped.\n",
    "\n",
    "Whenever possible use for instead of while and don't use range calls in for loops except as a last resort."
   ]
  },
  {
   "cell_type": "code",
   "execution_count": 1,
   "metadata": {},
   "outputs": [
    {
     "name": "stdout",
     "output_type": "stream",
     "text": [
      "banana anana nana ana na a "
     ]
    }
   ],
   "source": [
    "x = 'banana'\n",
    "while x:\n",
    "    print(x, end = ' ')\n",
    "    x = x[1:]"
   ]
  },
  {
   "cell_type": "markdown",
   "metadata": {},
   "source": [
    "#### Pass\n",
    "\n",
    "This statement is used as a no-operation placeholder, when the syntax requires a statement, but there's nothing to do. This is used to ignore exceptions caught by try statements or when sketching some structure of the code. "
   ]
  },
  {
   "cell_type": "code",
   "execution_count": null,
   "metadata": {},
   "outputs": [],
   "source": [
    "# example that skips error messages\n",
    "game_run = True\n",
    "while game_run:\n",
    "    try: \n",
    "        # some code here\n",
    "    except ZeroDivisionError:\n",
    "        pass\n",
    "print('game has ended')"
   ]
  },
  {
   "cell_type": "markdown",
   "metadata": {},
   "source": [
    "#### Continue\n",
    "\n",
    "continue statement causes an immediate jump to the top of the loop. "
   ]
  },
  {
   "cell_type": "code",
   "execution_count": 3,
   "metadata": {},
   "outputs": [
    {
     "name": "stdout",
     "output_type": "stream",
     "text": [
      "8 6 4 2 0 "
     ]
    }
   ],
   "source": [
    "# an example that skips odd numbers \n",
    "x = 10\n",
    "while x: \n",
    "    x -= 1\n",
    "    if x % 2 != 0: continue\n",
    "    print(x, end=' ')"
   ]
  },
  {
   "cell_type": "markdown",
   "metadata": {},
   "source": [
    "#### break\n",
    "\n",
    "break statement causes an immediate exit from a loop."
   ]
  },
  {
   "cell_type": "code",
   "execution_count": 4,
   "metadata": {},
   "outputs": [
    {
     "name": "stdout",
     "output_type": "stream",
     "text": [
      "Enter name:sue\n",
      "enter age:20\n",
      "Hello, sue, this is your age: 20\n",
      "Enter name:stop\n"
     ]
    }
   ],
   "source": [
    "while True:\n",
    "    name = input('Enter name:')\n",
    "    if name == 'stop': break\n",
    "    age = input('enter age:')\n",
    "    print(f\"Hello, {name}, this is your age: {age}\")"
   ]
  },
  {
   "cell_type": "markdown",
   "metadata": {},
   "source": [
    "#### Loop else\n",
    "\n",
    "else block gets executed when the while condition becomes naturally false. "
   ]
  },
  {
   "cell_type": "code",
   "execution_count": 9,
   "metadata": {},
   "outputs": [
    {
     "name": "stdout",
     "output_type": "stream",
     "text": [
      "target not found\n"
     ]
    }
   ],
   "source": [
    "# one example of loop while - else \n",
    "numbers = [1,3,5,4,9]\n",
    "target = 8\n",
    "index = 0\n",
    "while index < len(numbers):\n",
    "    if numbers[index] == target:\n",
    "        print('target found')\n",
    "        break\n",
    "    index += 1\n",
    "    \n",
    "else:\n",
    "    print('target not found')\n"
   ]
  },
  {
   "cell_type": "markdown",
   "metadata": {},
   "source": [
    "#### For loops \n",
    "\n",
    "The for loop is a generic iterator in Python, it can step through the items in any ordered sequences or other iterable objects. The statement works on strings, lists, tuples and other builtin iterables.\n",
    "When python runs a for loop, it assigns the items in the iterable object to the *target* one by one and executes the loop body for each."
   ]
  },
  {
   "cell_type": "code",
   "execution_count": 12,
   "metadata": {},
   "outputs": [
    {
     "name": "stdout",
     "output_type": "stream",
     "text": [
      "10\n"
     ]
    }
   ],
   "source": [
    "# name x is assigned to each of the 3 items in a list from left to right and statement is executed\n",
    "summa = 0\n",
    "for x in [1,2,3,4]:\n",
    "    summa += x\n",
    "print(summa)"
   ]
  },
  {
   "cell_type": "code",
   "execution_count": 13,
   "metadata": {},
   "outputs": [
    {
     "name": "stdout",
     "output_type": "stream",
     "text": [
      "l u m b e r j a c k "
     ]
    }
   ],
   "source": [
    "# iterating through string\n",
    "S = 'lumberjack'\n",
    "\n",
    "for x in S: print(x, end=' ')"
   ]
  },
  {
   "cell_type": "code",
   "execution_count": 16,
   "metadata": {},
   "outputs": [
    {
     "name": "stdout",
     "output_type": "stream",
     "text": [
      "and Im OK "
     ]
    }
   ],
   "source": [
    "# iterating through tuple\n",
    "T = ('and', 'Im', 'OK')\n",
    "\n",
    "for x in T: print(x, end=' ')"
   ]
  },
  {
   "cell_type": "code",
   "execution_count": 18,
   "metadata": {},
   "outputs": [
    {
     "name": "stdout",
     "output_type": "stream",
     "text": [
      "a => 1\n",
      "b => 2\n",
      "c => 3\n"
     ]
    }
   ],
   "source": [
    "# the loop target can be a tuple known as tuple assignment\n",
    "# for example, iterating through keys and values in a dict \n",
    "D = {'a': 1, 'b': 2, 'c': 3}\n",
    "for (key, value) in D.items():\n",
    "    print(key, '=>', value)"
   ]
  },
  {
   "cell_type": "code",
   "execution_count": 19,
   "metadata": {},
   "outputs": [
    {
     "name": "stdout",
     "output_type": "stream",
     "text": [
      "aaa  wasn't found\n",
      "111  wasn't found\n",
      "348  wasn't found\n",
      "2.01  wasn't found\n",
      "(4, 5)  was found\n"
     ]
    }
   ],
   "source": [
    "items = ['aaa', 111, 348, 2.01, (4,5)]\n",
    "keys = [(4,5), 3.14]\n",
    "\n",
    "for item in items:\n",
    "    if item in keys:\n",
    "        print(item, \" was found\")\n",
    "    else: \n",
    "        print(item, \" wasn't found\")"
   ]
  },
  {
   "cell_type": "code",
   "execution_count": 21,
   "metadata": {},
   "outputs": [
    {
     "name": "stdout",
     "output_type": "stream",
     "text": [
      "[(4, 5)]\n"
     ]
    }
   ],
   "source": [
    "# list comprehension is a way to iterate through a list of items and create a new list\n",
    "list_comp = [x for x in items if x in keys]\n",
    "print(list_comp)"
   ]
  },
  {
   "cell_type": "markdown",
   "metadata": {},
   "source": [
    "#### Built in functions that allow to specialize the iteration in a for \n",
    "\n",
    "1. range -> produces a series of successively higher integers and can be used as indexes in a for\n",
    "2. zip -> returns a series of parallel item tuples and can be used to traverse multiple sequences in a for\n",
    "3. enumerate -> generates both values and indexes of items in an iterable\n",
    "4. map -> similar to zip"
   ]
  },
  {
   "cell_type": "markdown",
   "metadata": {},
   "source": [
    "#### counter loop - range\n",
    "\n",
    "range() returns an iterable object."
   ]
  },
  {
   "cell_type": "code",
   "execution_count": 25,
   "metadata": {},
   "outputs": [
    {
     "name": "stdout",
     "output_type": "stream",
     "text": [
      "range(0, 5)\n",
      "[0, 1, 2, 3, 4, 5, 6, 7]\n",
      "[-5, -4, -3, -2, -1, 0, 1, 2, 3, 4]\n"
     ]
    }
   ],
   "source": [
    "numbers = range(5)\n",
    "print(numbers)\n",
    "\n",
    "# to convert it into a list\n",
    "list_numbers = list(range(8))\n",
    "print(list_numbers)\n",
    "\n",
    "list_bounds = list(range(-5,5))\n",
    "print(list_bounds)"
   ]
  },
  {
   "cell_type": "code",
   "execution_count": 26,
   "metadata": {
    "scrolled": true
   },
   "outputs": [
    {
     "name": "stdout",
     "output_type": "stream",
     "text": [
      "0 pythons\n",
      "1 pythons\n",
      "2 pythons\n"
     ]
    }
   ],
   "source": [
    "# to use it in a for loop \n",
    "for i in range(3):\n",
    "    print(i, 'pythons')"
   ]
  },
  {
   "cell_type": "code",
   "execution_count": 28,
   "metadata": {},
   "outputs": [
    {
     "name": "stdout",
     "output_type": "stream",
     "text": [
      "[2, 3, 4, 5, 6]\n"
     ]
    }
   ],
   "source": [
    "# a simpler option is to avoid range whenever possible and to use list comprehensions\n",
    "List = [1,2,3,4,5]\n",
    "List = [x+1 for x in List]\n",
    "print(List)"
   ]
  },
  {
   "cell_type": "markdown",
   "metadata": {},
   "source": [
    "#### parallel traversals\n",
    "\n",
    "zip and map allow to use for loops to visit multiple sequences in parallel. zip is common in 3.x. and map in 2.x. python"
   ]
  },
  {
   "cell_type": "code",
   "execution_count": 30,
   "metadata": {},
   "outputs": [
    {
     "name": "stdout",
     "output_type": "stream",
     "text": [
      "5 + 4 -> 9\n",
      "2 + 9 -> 11\n",
      "8 + 1 -> 9\n",
      "3 + 5 -> 8\n"
     ]
    }
   ],
   "source": [
    "# iterate through two lists in parallel\n",
    "L1 = [5,2,8,3]\n",
    "L2 = [4,9,1,5]\n",
    "\n",
    "for (x,y) in zip(L1,L2):\n",
    "    print(x, '+', y, '->', x+y)"
   ]
  },
  {
   "cell_type": "code",
   "execution_count": 31,
   "metadata": {},
   "outputs": [
    {
     "name": "stdout",
     "output_type": "stream",
     "text": [
      "[(4, 9), (3, 34), (2, 2)]\n"
     ]
    }
   ],
   "source": [
    "# zip truncates result at the lenght of the shortest sequence\n",
    "L3 = [4,3,2]\n",
    "L4 = [9,34,2,14,5]\n",
    "\n",
    "list_3_4 = list(zip(L3,L4))\n",
    "print(list_3_4)"
   ]
  },
  {
   "cell_type": "code",
   "execution_count": 33,
   "metadata": {},
   "outputs": [
    {
     "name": "stdout",
     "output_type": "stream",
     "text": [
      "{'spam': 1, 'eggs': 2, 'toast': 3}\n"
     ]
    }
   ],
   "source": [
    "# zip can be used to turn lists into a dict\n",
    "\n",
    "keys = ['spam', 'eggs', 'toast']\n",
    "values = [1,2,3]\n",
    "\n",
    "D2 = {}\n",
    "for (k,v) in zip(keys, values): D2[k] = v\n",
    "print(D2)"
   ]
  },
  {
   "cell_type": "markdown",
   "metadata": {},
   "source": [
    "#### enumerate\n",
    "\n",
    "enumerate is a built-in function in Python that adds a counter to an iterable. It returns an enumerate object, which yields pairs containing a count (from the start, which defaults to 0) and the values obtained from iterating over the iterable."
   ]
  },
  {
   "cell_type": "code",
   "execution_count": null,
   "metadata": {},
   "outputs": [],
   "source": [
    "fruits = ['apples', 'bananas', 'kiwis']\n",
    "for index,value in enumerate(fruits):\n",
    "    print(f\"Index: {index}, Value: {value}\")"
   ]
  },
  {
   "cell_type": "markdown",
   "metadata": {},
   "source": [
    "### What actually happens when for loop gets initiated\n",
    "\n",
    "For loop uses *iteration protocol*\n",
    "\n",
    "Full iteration protocol is based on two objects:\n",
    "- iterable object you request iteration for whose __iter__ is run by iter\n",
    "- iterator object returned by the iterable that produces values during the iteration whose __next__ is run by next "
   ]
  },
  {
   "cell_type": "code",
   "execution_count": 2,
   "metadata": {},
   "outputs": [
    {
     "name": "stdout",
     "output_type": "stream",
     "text": [
      "1\n"
     ]
    }
   ],
   "source": [
    "list_1 = [1,2,3,4]\n",
    "I = iter(list_1) # obtain an iterator object from iterable\n",
    "iterator = I.__next__()\n",
    "print(iterator)"
   ]
  },
  {
   "cell_type": "code",
   "execution_count": 3,
   "metadata": {},
   "outputs": [
    {
     "name": "stdout",
     "output_type": "stream",
     "text": [
      "2\n"
     ]
    }
   ],
   "source": [
    "iterator = I.__next__()\n",
    "print(iterator)"
   ]
  },
  {
   "cell_type": "code",
   "execution_count": 4,
   "metadata": {},
   "outputs": [
    {
     "name": "stdout",
     "output_type": "stream",
     "text": [
      "3\n"
     ]
    }
   ],
   "source": [
    "iterator = I.__next__()\n",
    "print(iterator)"
   ]
  },
  {
   "cell_type": "code",
   "execution_count": 5,
   "metadata": {},
   "outputs": [
    {
     "name": "stdout",
     "output_type": "stream",
     "text": [
      "4\n"
     ]
    }
   ],
   "source": [
    "iterator = I.__next__()\n",
    "print(iterator)"
   ]
  },
  {
   "cell_type": "code",
   "execution_count": 6,
   "metadata": {},
   "outputs": [
    {
     "ename": "StopIteration",
     "evalue": "",
     "output_type": "error",
     "traceback": [
      "\u001b[0;31m---------------------------------------------------------------------------\u001b[0m",
      "\u001b[0;31mStopIteration\u001b[0m                             Traceback (most recent call last)",
      "Cell \u001b[0;32mIn[6], line 1\u001b[0m\n\u001b[0;32m----> 1\u001b[0m iterator \u001b[38;5;241m=\u001b[39m \u001b[43mI\u001b[49m\u001b[38;5;241;43m.\u001b[39;49m\u001b[38;5;21;43m__next__\u001b[39;49m\u001b[43m(\u001b[49m\u001b[43m)\u001b[49m\n\u001b[1;32m      2\u001b[0m \u001b[38;5;28mprint\u001b[39m(iterator)\n",
      "\u001b[0;31mStopIteration\u001b[0m: "
     ]
    }
   ],
   "source": [
    "iterator = I.__next__()\n",
    "print(iterator)"
   ]
  },
  {
   "cell_type": "code",
   "execution_count": 8,
   "metadata": {},
   "outputs": [
    {
     "name": "stdout",
     "output_type": "stream",
     "text": [
      "9 4 49 "
     ]
    }
   ],
   "source": [
    "# this is ACTUALLY what for loops really do \n",
    "\n",
    "list_2 = [3,2,7]\n",
    "I = iter(list_2)\n",
    "while True:\n",
    "    try: \n",
    "        X = next(I)\n",
    "    except StopIteration:\n",
    "        break\n",
    "    print(X ** 2, end = ' ')\n",
    "    "
   ]
  },
  {
   "cell_type": "markdown",
   "metadata": {},
   "source": [
    "### 4 iteration contexts in Python\n",
    "\n",
    "1. for loop \n",
    "2. list comprehensions\n",
    "3. map function\n",
    "4. in membership test\n",
    "5. sorted, sum, any and all built in functions"
   ]
  }
 ],
 "metadata": {
  "kernelspec": {
   "display_name": "Python 3 (ipykernel)",
   "language": "python",
   "name": "python3"
  },
  "language_info": {
   "codemirror_mode": {
    "name": "ipython",
    "version": 3
   },
   "file_extension": ".py",
   "mimetype": "text/x-python",
   "name": "python",
   "nbconvert_exporter": "python",
   "pygments_lexer": "ipython3",
   "version": "3.9.17"
  }
 },
 "nbformat": 4,
 "nbformat_minor": 2
}
