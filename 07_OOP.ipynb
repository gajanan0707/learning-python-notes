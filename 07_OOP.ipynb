{
 "cells": [
  {
   "cell_type": "markdown",
   "metadata": {},
   "source": [
    "### Classes\n",
    "\n",
    "- A class is a special type of value in an object-oriented programming language like Python\n",
    "- In object-oriented programming, we create special types called \"classes\"\n",
    "- It is a common convention in Python to capitalize the first character in the name of your class"
   ]
  },
  {
   "cell_type": "code",
   "execution_count": null,
   "metadata": {},
   "outputs": [],
   "source": [
    "class Soldier:\n",
    "    health = 5"
   ]
  },
  {
   "cell_type": "markdown",
   "metadata": {},
   "source": [
    "- What makes classes cool is that they allow us to define custom methods on them\n",
    "- A method is a function that is associated with a class, and it has access to all the properties of the object\n",
    "\n",
    "*object.method()*"
   ]
  },
  {
   "cell_type": "code",
   "execution_count": 1,
   "metadata": {},
   "outputs": [
    {
     "name": "stdout",
     "output_type": "stream",
     "text": [
      "3\n"
     ]
    }
   ],
   "source": [
    "class Soldier:\n",
    "    health = 5\n",
    "\n",
    "    def take_damage(self, damage):\n",
    "        self.health -= damage\n",
    "\n",
    "soldier_one = Soldier()\n",
    "soldier_one.take_damage(2)\n",
    "print(soldier_one.health)"
   ]
  },
  {
   "cell_type": "markdown",
   "metadata": {},
   "source": [
    "- Methods always take a special parameter as their first argument called self\n",
    "- The self variable is a reference to the object itself, so by using it you can read and update the properties of the object"
   ]
  },
  {
   "cell_type": "code",
   "execution_count": null,
   "metadata": {},
   "outputs": [],
   "source": [
    "# method doesn't return anything because it instead changes an existing proprety (armor)\n",
    "\n",
    "class Wall:\n",
    "    armor = 10\n",
    "    height = 5\n",
    "\n",
    "    def get_cost(self):\n",
    "        \n",
    "\n",
    "    # don't touch below this line\n",
    "\n",
    "    def fortify(self):\n",
    "        self.armor *= 2"
   ]
  },
  {
   "cell_type": "code",
   "execution_count": null,
   "metadata": {},
   "outputs": [],
   "source": [
    "# but if a new variable has been created with the method, it should be returned \n",
    "\n",
    "class Wall:\n",
    "    armor = 10\n",
    "    height = 5\n",
    "\n",
    "    def get_cost(self):\n",
    "        cost=self.armor*self.height\n",
    "        return cost"
   ]
  },
  {
   "cell_type": "markdown",
   "metadata": {},
   "source": [
    "- a class above is called *superclass* and can be used for general, default behavior\n",
    "- a class below is called *subclass* and can be used for specilized behaviour"
   ]
  },
  {
   "cell_type": "code",
   "execution_count": null,
   "metadata": {},
   "outputs": [],
   "source": [
    "# class used for general behaviour of an employee\n",
    "\n",
    "class Employee: # superclass\n",
    "    def salary(self):...\n",
    "    def giveRaise(self):...\n",
    "    def promote(self):..."
   ]
  },
  {
   "cell_type": "code",
   "execution_count": null,
   "metadata": {},
   "outputs": [],
   "source": [
    "# subclass will provide defining custom behavior that will OVERRIDE Employee's salary method\n",
    "\n",
    "class Engineer(Employee):\n",
    "    def salary(self)"
   ]
  },
  {
   "cell_type": "markdown",
   "metadata": {},
   "source": [
    "#### Differences between methods and function\n",
    "\n",
    "##### Function\n",
    "\n",
    "- A function is a piece of code that is called by a name\n",
    "- It can receive data to operate on through parameters and may, optionally, return data\n",
    "- All data that is passed to a function is explicitly passed through parameters\n",
    "\n",
    "##### Method\n",
    "\n",
    "- A method is a piece of code that is called by a name that is associated with an object\n",
    "- A method is implicitly passed the object on which it was called. In other words, you won't see all the inputs in the parameter list\n",
    "- A method can operate on data that is contained within the class. In other words, you won't see all the outputs in the return statement"
   ]
  },
  {
   "cell_type": "code",
   "execution_count": null,
   "metadata": {},
   "outputs": [],
   "source": [
    "# this way of constructing a class in unusual\n",
    "\n",
    "class Soldier:\n",
    "    health = 5"
   ]
  },
  {
   "cell_type": "code",
   "execution_count": null,
   "metadata": {},
   "outputs": [],
   "source": [
    "# a much more common way is with constructors -> __init__() method\n",
    "\n",
    "class Soldier:\n",
    "    def __init__(self):\n",
    "        self.armor = 2\n",
    "        self.health = 5   "
   ]
  },
  {
   "cell_type": "markdown",
   "metadata": {},
   "source": [
    "- Constructor is one of the operator overloading methods\n",
    "- if a class wants to guarantee that an attribute like name is always set in its instances, fill out the attribute at construction time\n",
    "- __init__() method is called each time an instance is generated from a class"
   ]
  },
  {
   "cell_type": "code",
   "execution_count": 4,
   "metadata": {},
   "outputs": [
    {
     "name": "stdout",
     "output_type": "stream",
     "text": [
      "5\n"
     ]
    }
   ],
   "source": [
    "# but instead of hardcoding the constructor, it's better do pass parameters to __init__() method\n",
    "\n",
    "class Soldier:\n",
    "    def __init__(self, armor, health):\n",
    "        self.armor = armor\n",
    "        self.health = health\n",
    "        \n",
    "soldier1 = Soldier(5,10)\n",
    "print(soldier1.armor)"
   ]
  },
  {
   "cell_type": "code",
   "execution_count": 5,
   "metadata": {},
   "outputs": [
    {
     "name": "stdout",
     "output_type": "stream",
     "text": [
      "20\n",
      "10\n"
     ]
    }
   ],
   "source": [
    "# Instance variables vary from object to object and are declared in the constructor\n",
    "\n",
    "class Wall:\n",
    "    def __init__(self):\n",
    "        self.height = 10\n",
    "\n",
    "south_wall = Wall()\n",
    "south_wall.height = 20 # only updates this instance of a wall\n",
    "print(south_wall.height)\n",
    "# prints \"20\"\n",
    "\n",
    "north_wall = Wall()\n",
    "print(north_wall.height)"
   ]
  },
  {
   "cell_type": "code",
   "execution_count": 6,
   "metadata": {},
   "outputs": [
    {
     "name": "stdout",
     "output_type": "stream",
     "text": [
      "10\n",
      "20\n"
     ]
    }
   ],
   "source": [
    "# Class variables remain the same between instances \n",
    "# of the same class and are declared at the top level of a class definition.\n",
    "# should be avoided\n",
    "\n",
    "class Wall:\n",
    "    height = 10\n",
    "\n",
    "south_wall = Wall()\n",
    "print(south_wall.height)\n",
    "# prints \"10\"\n",
    "\n",
    "Wall.height = 20 # updates all instances of a Wall\n",
    "\n",
    "print(Wall.height)"
   ]
  },
  {
   "cell_type": "markdown",
   "metadata": {},
   "source": [
    "- object.attribute is a way to fetch an attribute \n",
    "- attribute fetches are simply tree searches -> they use inheritance search\n",
    "- it's looking for a first occurrence of attribute by first looking in object (class instance) then in all classes above it (from bottom to top, from left to right)\n",
    "- "
   ]
  },
  {
   "cell_type": "markdown",
   "metadata": {},
   "source": [
    "### Encapsulation\n",
    "\n",
    "- Encapsulation is like packing information into a box\n",
    "- It means keeping the inner workings of a class hidden from the outside\n",
    "- Private Variables: Use underscores (like _variable or __variable) to indicate \"private\" variables. These shouldn’t be accessed directly outside the class.\n",
    "- Getter and Setter Methods: Provide public methods to get or change private variables safely\n",
    "- not good for keeping passwords"
   ]
  },
  {
   "cell_type": "markdown",
   "metadata": {},
   "source": [
    "### Abstraction\n",
    "\n",
    "- Abstraction is a technique that helps us identify what information and behavior should be encapsulated, and what should be exposed\n",
    "- Encapsulation is the technique for organizing the code to encapsulate what should be hidden, and make visible what is intended to be visible\n",
    "- The process of using the double underscore is an encapsulation method \n",
    "- The process of deciding which data deserves to be hidden behind the double underscore is an abstraction. Let's look at a concrete example"
   ]
  },
  {
   "cell_type": "code",
   "execution_count": null,
   "metadata": {},
   "outputs": [],
   "source": [
    "# The decision to take a single number as input to the randrange function was a decision of abstraction\n",
    "\n",
    "import random\n",
    "\n",
    "my_random_number = random.randrange(5)"
   ]
  }
 ],
 "metadata": {
  "kernelspec": {
   "display_name": "Python 3 (ipykernel)",
   "language": "python",
   "name": "python3"
  },
  "language_info": {
   "codemirror_mode": {
    "name": "ipython",
    "version": 3
   },
   "file_extension": ".py",
   "mimetype": "text/x-python",
   "name": "python",
   "nbconvert_exporter": "python",
   "pygments_lexer": "ipython3",
   "version": "3.9.17"
  }
 },
 "nbformat": 4,
 "nbformat_minor": 2
}
