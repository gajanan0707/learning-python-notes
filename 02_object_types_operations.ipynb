{
 "cells": [
  {
   "cell_type": "markdown",
   "metadata": {},
   "source": [
    "### 4 Pillars of Programming in Python:\n",
    "\n",
    "1. **Sequence** (Do this, then that)\n",
    "2. **Selection** (Do this if that is true)\n",
    "3. **Repetition** (Do this many times)\n",
    "4. **Definition** (Functions and classes)"
   ]
  },
  {
   "cell_type": "markdown",
   "metadata": {},
   "source": [
    "### Built-in Objects in Python\n",
    "\n",
    "##### Numbers\n",
    "123, 45.78, 3+4, Ob111, Decimal(), Fraction()\n",
    "\n",
    "##### Strings \n",
    "'spam', \"Bob's\", b'a/djewi', u'fiejm3'\n",
    "\n",
    "##### Tuples \n",
    "(1, 'spam', 4, 'U')\n",
    "\n",
    "##### Lists \n",
    "[1, [2, 'three'], 4.5], list(range(10))\n",
    "\n",
    "##### Dictionaries \n",
    "{'food': 'spam', 'taste':'yum'}\n",
    "\n",
    "##### Sets\n",
    "{'a', 'b', 'c'}\n",
    "\n",
    "##### Files\n",
    "open('eggs.txt')\n",
    "\n",
    "##### Boolean, Types, None"
   ]
  },
  {
   "cell_type": "markdown",
   "metadata": {},
   "source": [
    "**Differences between Lists, Sets and Tuples (except for different type of parenthesis):**\n",
    "\n",
    "1. Lists are **Ordered, Mutable, allow duplicates**. Also, it’s possible to add new elements with methods like append() and insert()\n",
    "2. Tuples are **Ordered,  Immutable and allow duplicates**. You can’t add new elements, you have to make a new tuple instead\n",
    "3. Sets are **Unordered, Mutable, no duplicates**. It’s possible to add a new element with add() method \n",
    "\n",
    "**3 major categories of objects by *operations that they share:***\n",
    "\n",
    "1. **Numbers** (integer, floating-point, decimal, fraction….)\n",
    "\n",
    "*Support addition, multiplication, division etc*\n",
    "\n",
    "1. **Sequences** (strings, lists, tuples)\n",
    "\n",
    "*Support indexing, slicing, concatenation and specific methods*\n",
    "\n",
    "1. **Mappings** (dictionaries)\n",
    "\n",
    "*Support indexing by key….*\n",
    "\n",
    "**2 major categories based on mutability:**\n",
    "\n",
    "1. **Immutability** → numbers, strings, tuples, frozensets\n",
    "2. **Mutable** → lists, dictionaries, sets, bytearray"
   ]
  },
  {
   "cell_type": "markdown",
   "metadata": {},
   "source": [
    "### Numbers and basic operations"
   ]
  },
  {
   "cell_type": "code",
   "execution_count": 1,
   "metadata": {},
   "outputs": [
    {
     "name": "stdout",
     "output_type": "stream",
     "text": [
      "456\n"
     ]
    }
   ],
   "source": [
    "# Integer adition\n",
    "a = 123 + 333\n",
    "print(a)"
   ]
  },
  {
   "cell_type": "code",
   "execution_count": 2,
   "metadata": {},
   "outputs": [
    {
     "name": "stdout",
     "output_type": "stream",
     "text": [
      "11.700000000000001\n"
     ]
    }
   ],
   "source": [
    "# Floating point multiplication\n",
    "b = 1.3 * 9 \n",
    "print(b)"
   ]
  },
  {
   "cell_type": "code",
   "execution_count": 3,
   "metadata": {},
   "outputs": [
    {
     "name": "stdout",
     "output_type": "stream",
     "text": [
      "99485516849208937562616066108885443804108560638465220925517381406018415195803318325898246739075167581805642001562889716421705578737872947134100337180258175020914896879166948653603432316702418127252739632640991115970438670455389431205542027956086133631869904806959163177474593068371580205781659340061265059836762065515675667111203509922202114396230917494342904589843\n"
     ]
    }
   ],
   "source": [
    "# Big Numbers (to the power of)\n",
    "c = 3 ** 765\n",
    "print(c)"
   ]
  },
  {
   "cell_type": "code",
   "execution_count": 7,
   "metadata": {},
   "outputs": [
    {
     "name": "stdout",
     "output_type": "stream",
     "text": [
      "6.283\n"
     ]
    }
   ],
   "source": [
    "# Output as code \n",
    "d = repr(3.1415 * 2)\n",
    "print(d)"
   ]
  },
  {
   "cell_type": "code",
   "execution_count": 8,
   "metadata": {
    "scrolled": true
   },
   "outputs": [
    {
     "name": "stdout",
     "output_type": "stream",
     "text": [
      "6.283\n"
     ]
    }
   ],
   "source": [
    "# To make that same result more user friendly, and easily readible, turn to string \n",
    "print(3.1415 * 2 )"
   ]
  },
  {
   "cell_type": "markdown",
   "metadata": {},
   "source": [
    "### Lists [  ] and basic operations\n",
    "\n",
    "→ Lists are places ***to collect*** other objects so I can treat them like groups\n",
    "\n",
    "→ They maintain ***left to right positioning***\n",
    "\n",
    "→ They can be ***accessed by indexing***\n",
    "\n",
    "→ Lists are ***sequences just like strings*** so all the string operations can be applied to lists. Like concat, repetition, indexing as well as apply type specific methods like .***append()*** to ***add elements***  and ***.pop()*** to ***delete*** elements\n",
    "\n",
    "Indexing always points to the type of object that lives at the offset, while slicing modifies a list by creating a new list (by deleting whatever is specified and/or add insertions). Index and slice are in-place changes.\n",
    "\n",
    "Lists have no fixed size and they allow nesting."
   ]
  },
  {
   "cell_type": "code",
   "execution_count": 9,
   "metadata": {},
   "outputs": [
    {
     "name": "stdout",
     "output_type": "stream",
     "text": [
      "[1, 5, 9, 23]\n"
     ]
    }
   ],
   "source": [
    "# most common methods:\n",
    "\n",
    "# append adds will add a single object (not a list) to the end of the list, it modifies the list\n",
    "l = [1,5,9]\n",
    "l.append(23)\n",
    "print(l)"
   ]
  },
  {
   "cell_type": "markdown",
   "metadata": {},
   "source": [
    " L.append(x) → element x will be added to the list, thus modifying it. Effect is similar to concat L + [x] but this will actually create a new list. "
   ]
  },
  {
   "cell_type": "code",
   "execution_count": 12,
   "metadata": {
    "scrolled": true
   },
   "outputs": [
    {
     "name": "stdout",
     "output_type": "stream",
     "text": [
      "[5, 2, 8, 9, 7, 4, 1]\n"
     ]
    }
   ],
   "source": [
    "# .extend() adds multiple elements to the list and changes it\n",
    "m = [5,2,8,9]\n",
    "n = [7,4,1]\n",
    "m.extend(n)\n",
    "print(m)"
   ]
  },
  {
   "cell_type": "code",
   "execution_count": 22,
   "metadata": {
    "scrolled": true
   },
   "outputs": [
    {
     "name": "stdout",
     "output_type": "stream",
     "text": [
      "['mango', 'kiwi', 'apples']\n"
     ]
    }
   ],
   "source": [
    "# .reverse() reverses the list in place\n",
    "fruits = ['apples', 'kiwi', 'mango']\n",
    "fruits.reverse()\n",
    "print(fruits)"
   ]
  },
  {
   "cell_type": "code",
   "execution_count": 24,
   "metadata": {},
   "outputs": [
    {
     "name": "stdout",
     "output_type": "stream",
     "text": [
      "['mango', 'kiwi']\n"
     ]
    }
   ],
   "source": [
    "# .pop() deletes and returns the last element in the list (by default -1)\n",
    "fruits.pop()\n",
    "print(fruits)"
   ]
  },
  {
   "cell_type": "code",
   "execution_count": 25,
   "metadata": {},
   "outputs": [
    {
     "name": "stdout",
     "output_type": "stream",
     "text": [
      "[34, 8, 12]\n"
     ]
    }
   ],
   "source": [
    "# List allows nesting \n",
    "list = [[1,2,3],[34,8,12],[47,987,35]]\n",
    "print(list[1])"
   ]
  },
  {
   "cell_type": "code",
   "execution_count": 26,
   "metadata": {},
   "outputs": [
    {
     "name": "stdout",
     "output_type": "stream",
     "text": [
      "34\n"
     ]
    }
   ],
   "source": [
    "print(list[1][0])"
   ]
  },
  {
   "cell_type": "code",
   "execution_count": 38,
   "metadata": {},
   "outputs": [
    {
     "name": "stdout",
     "output_type": "stream",
     "text": [
      "None\n",
      "[1, 5, 25, 32, 78, 86, 99, 7356, 78545643]\n"
     ]
    }
   ],
   "source": [
    "# .sort() will automathically sort the list in the ascending order\n",
    "list = [5,7356,86,25,1,78545643,32,78,99]\n",
    "list_sort = list.sort()\n",
    "print(list_sort)\n",
    "print(list)\n",
    "\n",
    "# This will give me back None because .sort() modifies the existing list, it doesn't create a new one.\n",
    "# If creating a new, sorted list, while keeping the origial is the goal, than sorted() should be ne the choice"
   ]
  },
  {
   "cell_type": "code",
   "execution_count": 1,
   "metadata": {},
   "outputs": [
    {
     "name": "stdout",
     "output_type": "stream",
     "text": [
      "[1, 5, 25, 32, 78, 86, 99, 7356, 78545643]\n"
     ]
    }
   ],
   "source": [
    "list_original = [5,7356,86,25,1,78545643,32,78,99]\n",
    "list_sorted = sorted(list_original)\n",
    "print(list_sorted)"
   ]
  },
  {
   "cell_type": "code",
   "execution_count": 5,
   "metadata": {},
   "outputs": [
    {
     "name": "stdout",
     "output_type": "stream",
     "text": [
      "['corn', 'banana', 'kiwi', 'apples', 'berries']\n"
     ]
    }
   ],
   "source": [
    "# insert an element at a specific place\n",
    "list = ['banana', 'kiwi', 'apples', 'berries']\n",
    "list.insert(0, 'corn')\n",
    "print(list)"
   ]
  },
  {
   "cell_type": "code",
   "execution_count": 6,
   "metadata": {
    "scrolled": true
   },
   "outputs": [
    {
     "name": "stdout",
     "output_type": "stream",
     "text": [
      "['corn', 'banana', 'kiwi', 'apples', 'cilantro', 'berries']\n"
     ]
    }
   ],
   "source": [
    "list.insert(-1, 'cilantro')\n",
    "print(list)"
   ]
  },
  {
   "cell_type": "code",
   "execution_count": 7,
   "metadata": {
    "scrolled": true
   },
   "outputs": [
    {
     "name": "stdout",
     "output_type": "stream",
     "text": [
      "['banana', 'kiwi', 'apples', 'cilantro', 'berries']\n"
     ]
    }
   ],
   "source": [
    "# remove a specific element from a list \n",
    "list.remove('corn')\n",
    "print(list)"
   ]
  },
  {
   "cell_type": "code",
   "execution_count": 12,
   "metadata": {},
   "outputs": [
    {
     "name": "stdout",
     "output_type": "stream",
     "text": [
      "['kiwi', 'apples', 'cilantro', 'corn', 'cilantro', 'berries']\n"
     ]
    }
   ],
   "source": [
    "# remove a specific element from a list - based on specific position\n",
    "list.pop(0)\n",
    "print(list)"
   ]
  },
  {
   "cell_type": "code",
   "execution_count": 9,
   "metadata": {},
   "outputs": [
    {
     "name": "stdout",
     "output_type": "stream",
     "text": [
      "['banana', 'kiwi', 'apples', 'cilantro', 'corn', 'cilantro', 'berries']\n"
     ]
    }
   ],
   "source": [
    "list.insert(-1, 'cilantro')\n",
    "print(list)"
   ]
  },
  {
   "cell_type": "code",
   "execution_count": 11,
   "metadata": {},
   "outputs": [
    {
     "name": "stdout",
     "output_type": "stream",
     "text": [
      "2\n"
     ]
    }
   ],
   "source": [
    "# count number of time an item was in the list\n",
    "count = list.count('cilantro')\n",
    "print(count)"
   ]
  },
  {
   "cell_type": "markdown",
   "metadata": {},
   "source": [
    "### List Comprehensions\n",
    "\n",
    "List Comprehensions are a way to build a new list by ***running an expression on each item in a sequence***. And it can be used for more complicated tasks like filtering out odd items."
   ]
  },
  {
   "cell_type": "code",
   "execution_count": 13,
   "metadata": {},
   "outputs": [
    {
     "name": "stdout",
     "output_type": "stream",
     "text": [
      "['SSSS', 'PPPP', 'AAAA', 'MMMM']\n"
     ]
    }
   ],
   "source": [
    "# Iterate though every element and do a certain action \n",
    "res = [a*4 for a in 'SPAM']\n",
    "print(res)"
   ]
  },
  {
   "cell_type": "code",
   "execution_count": 14,
   "metadata": {},
   "outputs": [
    {
     "name": "stdout",
     "output_type": "stream",
     "text": [
      "['CCCC', 'OOOO', 'RRRR', 'NNNN']\n"
     ]
    }
   ],
   "source": [
    "# list comprehension is the same as a typical \"for\" loop but faster and shorter to write \n",
    "res = []\n",
    "for a in 'CORN':\n",
    "    res.append(a*4)\n",
    "print(res)"
   ]
  },
  {
   "cell_type": "markdown",
   "metadata": {},
   "source": [
    "#### List comprehensions might run faster than for loops \n",
    "\n",
    "Comprehension syntax has been generalized for other roles, for example, enclosing a comprehension in parentheses can be used to generate *generators.*"
   ]
  },
  {
   "cell_type": "code",
   "execution_count": 1,
   "metadata": {},
   "outputs": [
    {
     "name": "stdout",
     "output_type": "stream",
     "text": [
      "True\n"
     ]
    }
   ],
   "source": [
    "# generator\n",
    "M = [[1, 5, 8], [3, 6, 9], [20]]\n",
    "row = [20]\n",
    "g = (sum(row) in row in M)\n",
    "print(g)\n"
   ]
  },
  {
   "cell_type": "markdown",
   "metadata": {},
   "source": [
    "### Dictionaries\n",
    "\n",
    "- Accessed by key, not by position\n",
    "\n",
    "- Unordered collections of arbitrary objects\n",
    "\n",
    "- Can grow and shrink \n",
    "\n",
    "- Mutable mapping \n",
    "\n",
    "- Allows nesting\n",
    "\n",
    "- Unordered collections, items are stored and fetched by key.\n",
    "\n",
    "Aren’t sequences, instead → mapping, a flexible tool for representing collections. They are coded in curly braces and consist of “key:value” pairs. \n",
    "\n",
    "Because it’s an unordered collection, all the operation from left to right can’t be applied (like concatenation and slicing)"
   ]
  },
  {
   "cell_type": "code",
   "execution_count": 2,
   "metadata": {},
   "outputs": [
    {
     "name": "stdout",
     "output_type": "stream",
     "text": [
      "{'food': 'corn', 'quantity': 6, 'Sara': 50} {'name': 'matt'}\n"
     ]
    }
   ],
   "source": [
    "# One way to create a dictionary\n",
    "D = {'food': 'corn', 'quantity': 6, 'Sara': 50}\n",
    "\n",
    "# A more common way is by assigning the values dinamically\n",
    "D2 = {}\n",
    "D2 = {'age': 30}\n",
    "D2 = {'name': 'matt'}\n",
    "print(D, D2)"
   ]
  },
  {
   "cell_type": "code",
   "execution_count": 3,
   "metadata": {},
   "outputs": [
    {
     "name": "stdout",
     "output_type": "stream",
     "text": [
      "{'name': 'Sara', 'job': 'dev', 'age': '40'}\n"
     ]
    }
   ],
   "source": [
    "# Creating a dictionary by keyword arguments \n",
    "D3 = dict(name='Sara', job='dev', age='40')\n",
    "print(D3)"
   ]
  },
  {
   "cell_type": "code",
   "execution_count": 6,
   "metadata": {},
   "outputs": [
    {
     "name": "stdout",
     "output_type": "stream",
     "text": [
      "[('name', 'sara'), ('age', '32'), ('job', 'dev')]\n"
     ]
    }
   ],
   "source": [
    "# Creating dictionary by zipping\n",
    "list_to_dict = list(zip(['name', 'age', 'job'],['sara', '32', 'dev']))\n",
    "print(D4)"
   ]
  },
  {
   "cell_type": "code",
   "execution_count": 7,
   "metadata": {},
   "outputs": [
    {
     "name": "stdout",
     "output_type": "stream",
     "text": [
      "{'name': 'sara', 'age': '32', 'job': 'dev'}\n"
     ]
    }
   ],
   "source": [
    "D4 = dict(list_to_dict)\n",
    "print(D4)"
   ]
  },
  {
   "cell_type": "code",
   "execution_count": 9,
   "metadata": {},
   "outputs": [
    {
     "name": "stdout",
     "output_type": "stream",
     "text": [
      "{'fist': 'bob', 'last': 'smith'}\n",
      "smith\n"
     ]
    }
   ],
   "source": [
    "# nesting dictionaries\n",
    "D5 = {'name': {'fist': 'bob', 'last': 'smith'}, 'job': ['dev', 'manager'], 'age': 30}\n",
    "name = D5['name']\n",
    "print(name)\n",
    "last_name = D5['name']['last']\n",
    "print(last_name)"
   ]
  },
  {
   "cell_type": "markdown",
   "metadata": {},
   "source": [
    "There’s a way to “view” dictionaries, that is to view the keys/values with keys() and with values().\n",
    "\n",
    "keys() method returns set-like object, but values() doesn’t. It’s possible to perform operations like union and intersection with keys()"
   ]
  },
  {
   "cell_type": "code",
   "execution_count": 10,
   "metadata": {},
   "outputs": [
    {
     "name": "stdout",
     "output_type": "stream",
     "text": [
      "dict_keys(['name', 'job', 'age'])\n"
     ]
    }
   ],
   "source": [
    "# to extract keys only\n",
    "keys = D5.keys()\n",
    "print(keys)"
   ]
  },
  {
   "cell_type": "code",
   "execution_count": 11,
   "metadata": {},
   "outputs": [
    {
     "name": "stdout",
     "output_type": "stream",
     "text": [
      "dict_values([{'fist': 'bob', 'last': 'smith'}, ['dev', 'manager'], 30])\n"
     ]
    }
   ],
   "source": [
    "# to extract values only\n",
    "values = D5.values()\n",
    "print(values)"
   ]
  },
  {
   "cell_type": "code",
   "execution_count": 13,
   "metadata": {},
   "outputs": [
    {
     "name": "stdout",
     "output_type": "stream",
     "text": [
      "a 1\n",
      "b 2\n",
      "c 3\n"
     ]
    }
   ],
   "source": [
    "# a way to impose order on dictionary items\n",
    "# first turn into list of keys\n",
    "D6 = {'a': 1, 'b': 2, 'c': 3}\n",
    "ks = list(D6.keys())\n",
    "\n",
    "# sort the list\n",
    "ks.sort()\n",
    "for key in ks: \n",
    "    print(key, D6[key])"
   ]
  },
  {
   "cell_type": "code",
   "execution_count": null,
   "metadata": {},
   "outputs": [],
   "source": [
    "# to change an entry in dictionary\n",
    "D7 = {'eggs': 3, 'cheese': 4, 'ham': ['grill', 'bake', 'fry']}\n",
    "D7['ham'] = ['fry']\n",
    "print(D7)"
   ]
  },
  {
   "cell_type": "code",
   "execution_count": 2,
   "metadata": {},
   "outputs": [
    {
     "name": "stdout",
     "output_type": "stream",
     "text": [
      "{'sara': 28, 'dan': 35, 'nesh': 70, 'an': 60}\n"
     ]
    }
   ],
   "source": [
    "# to add a new item \n",
    "D8 = {'sara': 28, 'dan': 35, 'nesh': 70}\n",
    "D8['an'] = 60\n",
    "print(D8)"
   ]
  },
  {
   "cell_type": "code",
   "execution_count": 3,
   "metadata": {},
   "outputs": [
    {
     "name": "stdout",
     "output_type": "stream",
     "text": [
      "[('sara', 28), ('dan', 35), ('nesh', 70), ('an', 60)]\n"
     ]
    }
   ],
   "source": [
    "# to get all items and turn them into a list\n",
    "dict_to_list = list(D8.items())\n",
    "print(dict_to_list)"
   ]
  },
  {
   "cell_type": "code",
   "execution_count": 4,
   "metadata": {},
   "outputs": [
    {
     "name": "stdout",
     "output_type": "stream",
     "text": [
      "28\n"
     ]
    }
   ],
   "source": [
    "# get a value by key\n",
    "sara = D8.get('sara')\n",
    "print(sara)"
   ]
  },
  {
   "cell_type": "code",
   "execution_count": 7,
   "metadata": {},
   "outputs": [
    {
     "name": "stdout",
     "output_type": "stream",
     "text": [
      "{'a': 1, 'b': 2, 'c': 3, 'd': 4, 'e': 5}\n"
     ]
    }
   ],
   "source": [
    "# how to merge or \"concatinate\" two dictionaries\n",
    "dict1 = {'a': 1, 'b': 2, 'c': 3}\n",
    "dict2 = {'d': 4, 'e': 5}\n",
    "dict1.update(dict2)\n",
    "print(dict1)"
   ]
  },
  {
   "cell_type": "code",
   "execution_count": 8,
   "metadata": {},
   "outputs": [
    {
     "name": "stdout",
     "output_type": "stream",
     "text": [
      "{'b': 2, 'c': 3, 'd': 4, 'e': 5}\n"
     ]
    }
   ],
   "source": [
    "# to remove a specific key and return its value\n",
    "dict1.pop('a')\n",
    "print(dict1)"
   ]
  },
  {
   "cell_type": "code",
   "execution_count": 10,
   "metadata": {
    "scrolled": true
   },
   "outputs": [
    {
     "name": "stdout",
     "output_type": "stream",
     "text": [
      "['b', 'c']\n"
     ]
    }
   ],
   "source": [
    "# to iterate through a dict both by key and value\n",
    "filter_data = [string for (string, integer) in dict1.items() if integer < 4]\n",
    "print(filter_data)"
   ]
  },
  {
   "cell_type": "code",
   "execution_count": 11,
   "metadata": {},
   "outputs": [
    {
     "name": "stdout",
     "output_type": "stream",
     "text": [
      "{'cats': 'cats are nice', 'dogs': 'dogs are nice', 'birds': 'birds are nice'}\n"
     ]
    }
   ],
   "source": [
    "# dictionary comprehension\n",
    "dict3 = {x:x + ' are nice' for x in ['cats', 'dogs', 'birds']}\n",
    "print(dict3)"
   ]
  },
  {
   "cell_type": "markdown",
   "metadata": {},
   "source": [
    "*Iteration protocol* is supported by almost all sequence types and dictionaries in Python. \n",
    "\n",
    "Under the hood, these objects respond to the iter call with an object that advances in response to next calls and raises an exception when finished producing values. \n",
    "\n",
    "Every Python tool that scans an object from left to right uses the iteration protocol."
   ]
  },
  {
   "cell_type": "markdown",
   "metadata": {},
   "source": [
    "### Tuples\n",
    "\n",
    "Sort of like lists but fixed, definitely sequences. They support all the operations just like all the other sequences, like concat, indexing, slicing etc… They also don’t grow or shrink. \n",
    "\n",
    "- Collection of arbitrary objects, support all types of objects\n",
    "- Accessed by offset\n",
    "- Immutable sequence\n",
    "- Fixed-length\n",
    "\n",
    "So why Tuples?\n",
    "\n",
    "Not used as often as lists, but the whole purpose is their immutability."
   ]
  },
  {
   "cell_type": "code",
   "execution_count": 12,
   "metadata": {
    "scrolled": true
   },
   "outputs": [
    {
     "name": "stdout",
     "output_type": "stream",
     "text": [
      "(1, 5, 8, 4, 2, 9)\n"
     ]
    }
   ],
   "source": [
    "T = (1,5,8,4)\n",
    "T = T + (2,9)\n",
    "print(T)"
   ]
  },
  {
   "cell_type": "code",
   "execution_count": 13,
   "metadata": {},
   "outputs": [
    {
     "name": "stdout",
     "output_type": "stream",
     "text": [
      "1\n"
     ]
    }
   ],
   "source": [
    "# allows indexing, slicing and more \n",
    "print(T[0]) "
   ]
  },
  {
   "cell_type": "code",
   "execution_count": 14,
   "metadata": {},
   "outputs": [
    {
     "name": "stdout",
     "output_type": "stream",
     "text": [
      "3\n"
     ]
    }
   ],
   "source": [
    "# can count how many times has integer 1 appeared\n",
    "T = (1,5,8,4,1,6,9,2,5,1)\n",
    "count = T.count(1)\n",
    "print(count)"
   ]
  },
  {
   "cell_type": "code",
   "execution_count": 15,
   "metadata": {},
   "outputs": [
    {
     "name": "stdout",
     "output_type": "stream",
     "text": [
      "[1, 1, 1, 2, 4, 5, 5, 6, 8, 9]\n"
     ]
    }
   ],
   "source": [
    "# it's possible to sort tuples\n",
    "sorted_list = sorted(T)\n",
    "print(sorted_list)"
   ]
  },
  {
   "cell_type": "code",
   "execution_count": 16,
   "metadata": {
    "scrolled": true
   },
   "outputs": [
    {
     "name": "stdout",
     "output_type": "stream",
     "text": [
      "[21, 25, 28, 24, 21, 26, 29, 22, 25, 21]\n"
     ]
    }
   ],
   "source": [
    "# list comprehensions are also available because they're sequence operations\n",
    "list_comprehension = [x + 20 for x in T]\n",
    "print(list_comprehension)"
   ]
  },
  {
   "cell_type": "code",
   "execution_count": 19,
   "metadata": {},
   "outputs": [
    {
     "name": "stdout",
     "output_type": "stream",
     "text": [
      "sara 34\n",
      "sara\n",
      "34\n"
     ]
    }
   ],
   "source": [
    "# I can also access the tuples both by position and attribute if I use namedtuple\n",
    "# which is a part of collections library\n",
    "from collections import namedtuple\n",
    "rec = namedtuple('rec', ['name', 'age', 'job'])\n",
    "sara = rec('sara', 34, 'dev')\n",
    "print(sara[0], sara[1])\n",
    "print(sara.name)\n",
    "print(sara.age)"
   ]
  },
  {
   "cell_type": "markdown",
   "metadata": {},
   "source": [
    "### Files\n",
    "\n",
    "Files are python’s main interface to external files on your computer. They can be used to read and write memos, audio files, Excel documents, saved messages etc… But they are a bit weird. \n",
    "\n",
    "- data read form a file is *always a string* so sometimes it's important to convert it to different type \n",
    "\n",
    "- Python doesn't do any formatting and doesn’t convert objects to strings automatically \n",
    "\n",
    "- output files are always buffered, which means that text you write may not be transferred from memory to disc immediately. Closing a file forces the buffered data to disk"
   ]
  },
  {
   "cell_type": "code",
   "execution_count": null,
   "metadata": {},
   "outputs": [],
   "source": [
    "# to make a new file:\n",
    "file = open('data.txt', 'w') # make a new file in output mode \n",
    "\n",
    "# 'w' -> is for write, truncating first\n",
    "# 'r' -> is for reading (default value)\n",
    "# 'a' -> append to the end of file  if it exists \n",
    "\n",
    "# to write new text in the file\n",
    "file.write('hello\\n')\n",
    "file.write('world\\n')\n",
    "\n",
    "# close to flush output buffer to disk\n",
    "file.close()\n",
    "\n",
    "# to read the file\n",
    "file = open('data.txt') # 'r' is default value\n",
    "text = file.readline() # reads the file line by line\n",
    "\n",
    "# another way to read line by line \n",
    "for line in open('data.txt'):\n",
    "  print(line, end='')\n",
    "\n",
    "# a regular way to read the text \n",
    "text = file.read()\n",
    "print(text)"
   ]
  },
  {
   "cell_type": "markdown",
   "metadata": {},
   "source": [
    "### Classes \n",
    "\n",
    "Classes define new types of objects that extend the core set."
   ]
  },
  {
   "cell_type": "code",
   "execution_count": null,
   "metadata": {},
   "outputs": [],
   "source": [
    "class Worker:\n",
    "  def __init__(self, name, pay):\n",
    "    self.name = name\n",
    "    self.pay = pay\n",
    "  def lastName(self):\n",
    "    return self.name.split()[-1]\n",
    "  def giveRaise(self, percent):\n",
    "    self.pay *= (1.0 + percent)"
   ]
  },
  {
   "cell_type": "markdown",
   "metadata": {},
   "source": [
    "This class defines a new kind of object that will have name and pay attributes (known as state information), as well as two bits of behavior coded as functions (normally called method). Calling the class like a function generates instances of this type. \n",
    "\n",
    "The implied “self” object is why we call this object-oriented model: there is always an implied subject in functions within a class. \n",
    "\n",
    "We extend software by writing new classes, not by changing what already works."
   ]
  },
  {
   "cell_type": "markdown",
   "metadata": {},
   "source": [
    "### Sets \n",
    "\n",
    "An unordered collection of unique and immutable objects that supports operations and no duplicates. They are iterable, can grow and shrink and share some behavior with lists and dictionaries. Can also contain a variety of objects."
   ]
  },
  {
   "cell_type": "code",
   "execution_count": null,
   "metadata": {},
   "outputs": [],
   "source": [
    "# why use sets? \n",
    "# 1. to filter out duplicates\n",
    "list_filter = [1,5,3,7,4,1,4,1,98,3521,1] # list with duplicates\n",
    "\n",
    "# turn to set and back to list\n",
    "list_filter = list(set(list_filter))\n",
    "print(list_filter)"
   ]
  },
  {
   "cell_type": "code",
   "execution_count": 6,
   "metadata": {},
   "outputs": [
    {
     "name": "stdout",
     "output_type": "stream",
     "text": [
      "False\n",
      "True\n",
      "True\n"
     ]
    }
   ],
   "source": [
    "# 2. Testing if the two sets are identical, if the content is identical regardless of the order\n",
    "list_1, list_2 = [1,3,5,2], [2,5,3,1]\n",
    "\n",
    "print(list_1 == list_2) # value is False because the order isn't identical\n",
    "\n",
    "print(set(list_1) == set(list_2)) # value is True because items are identical\n",
    "\n",
    "print(sorted(list_1) == sorted(list_2)) # value is True becasue items are identical and in identical order"
   ]
  },
  {
   "cell_type": "code",
   "execution_count": 7,
   "metadata": {},
   "outputs": [
    {
     "name": "stdout",
     "output_type": "stream",
     "text": [
      "True\n",
      "{'sue'}\n",
      "{'ann', 'vic', 'bob'}\n",
      "False\n"
     ]
    }
   ],
   "source": [
    "# 3. querying and intersecting large datasets if each set is different category\n",
    "engineers = {'bob', 'sue', 'ann', 'vic'}\n",
    "managers = {'tom', 'sue'}\n",
    "\n",
    "print('bob' in engineers) # is bob an engineer?\n",
    "print(engineers&managers) # who is an engineer and manager?\n",
    "print(engineers-managers) # who are engineers that are not managers?\n",
    "print(engineers>managers) # are all managers engineers?"
   ]
  },
  {
   "cell_type": "markdown",
   "metadata": {},
   "source": [
    "### Strings Fundamentals\n",
    "\n",
    "Strings are immutable sequences, contain left to right positional order and all operations that work for strings work for all the other sequences (lists and tuples).\n",
    "\n",
    "*For processing strings:*\n",
    "\n",
    "1. Expressions → concat, indexing, slicing\n",
    "2. Methods → s.find(), s.split(’,’), s.lower()"
   ]
  },
  {
   "cell_type": "code",
   "execution_count": 8,
   "metadata": {},
   "outputs": [
    {
     "data": {
      "text/plain": [
       "['__add__',\n",
       " '__class__',\n",
       " '__contains__',\n",
       " '__delattr__',\n",
       " '__dir__',\n",
       " '__doc__',\n",
       " '__eq__',\n",
       " '__format__',\n",
       " '__ge__',\n",
       " '__getattribute__',\n",
       " '__getitem__',\n",
       " '__getnewargs__',\n",
       " '__gt__',\n",
       " '__hash__',\n",
       " '__init__',\n",
       " '__init_subclass__',\n",
       " '__iter__',\n",
       " '__le__',\n",
       " '__len__',\n",
       " '__lt__',\n",
       " '__mod__',\n",
       " '__mul__',\n",
       " '__ne__',\n",
       " '__new__',\n",
       " '__reduce__',\n",
       " '__reduce_ex__',\n",
       " '__repr__',\n",
       " '__rmod__',\n",
       " '__rmul__',\n",
       " '__setattr__',\n",
       " '__sizeof__',\n",
       " '__str__',\n",
       " '__subclasshook__',\n",
       " 'capitalize',\n",
       " 'casefold',\n",
       " 'center',\n",
       " 'count',\n",
       " 'encode',\n",
       " 'endswith',\n",
       " 'expandtabs',\n",
       " 'find',\n",
       " 'format',\n",
       " 'format_map',\n",
       " 'index',\n",
       " 'isalnum',\n",
       " 'isalpha',\n",
       " 'isascii',\n",
       " 'isdecimal',\n",
       " 'isdigit',\n",
       " 'isidentifier',\n",
       " 'islower',\n",
       " 'isnumeric',\n",
       " 'isprintable',\n",
       " 'isspace',\n",
       " 'istitle',\n",
       " 'isupper',\n",
       " 'join',\n",
       " 'ljust',\n",
       " 'lower',\n",
       " 'lstrip',\n",
       " 'maketrans',\n",
       " 'partition',\n",
       " 'removeprefix',\n",
       " 'removesuffix',\n",
       " 'replace',\n",
       " 'rfind',\n",
       " 'rindex',\n",
       " 'rjust',\n",
       " 'rpartition',\n",
       " 'rsplit',\n",
       " 'rstrip',\n",
       " 'split',\n",
       " 'splitlines',\n",
       " 'startswith',\n",
       " 'strip',\n",
       " 'swapcase',\n",
       " 'title',\n",
       " 'translate',\n",
       " 'upper',\n",
       " 'zfill']"
      ]
     },
     "execution_count": 8,
     "metadata": {},
     "output_type": "execute_result"
    }
   ],
   "source": [
    "# to see all the methods that are available to a string:\n",
    "S = 'djiofhceqo'\n",
    "dir(S) \n"
   ]
  },
  {
   "cell_type": "code",
   "execution_count": 9,
   "metadata": {
    "scrolled": true
   },
   "outputs": [
    {
     "name": "stdout",
     "output_type": "stream",
     "text": [
      "Help on built-in function replace:\n",
      "\n",
      "replace(old, new, count=-1, /) method of builtins.str instance\n",
      "    Return a copy with all occurrences of substring old replaced by new.\n",
      "    \n",
      "      count\n",
      "        Maximum number of occurrences to replace.\n",
      "        -1 (the default value) means replace all occurrences.\n",
      "    \n",
      "    If the optional argument count is given, only the first count occurrences are\n",
      "    replaced.\n",
      "\n"
     ]
    }
   ],
   "source": [
    "# help () will give an explanation of what specific method does -> .replace in this case\n",
    "help(S.replace)"
   ]
  },
  {
   "cell_type": "markdown",
   "metadata": {},
   "source": [
    "### Some simple string operations:"
   ]
  },
  {
   "cell_type": "code",
   "execution_count": 11,
   "metadata": {},
   "outputs": [
    {
     "name": "stdout",
     "output_type": "stream",
     "text": [
      "7\n",
      "a\n"
     ]
    }
   ],
   "source": [
    "# number of characters in a string\n",
    "string = 'example'\n",
    "print(len(string))"
   ]
  },
  {
   "cell_type": "code",
   "execution_count": 13,
   "metadata": {},
   "outputs": [
    {
     "name": "stdout",
     "output_type": "stream",
     "text": [
      "a\n",
      "e\n",
      "l\n"
     ]
    }
   ],
   "source": [
    "# indexing expression\n",
    "print(string[2])\n",
    "print(string[-1]) # return character in last position\n",
    "print(string[-2])"
   ]
  },
  {
   "cell_type": "code",
   "execution_count": 19,
   "metadata": {},
   "outputs": [
    {
     "ename": "SyntaxError",
     "evalue": "invalid syntax (2412098624.py, line 6)",
     "output_type": "error",
     "traceback": [
      "\u001b[0;36m  Cell \u001b[0;32mIn[19], line 6\u001b[0;36m\u001b[0m\n\u001b[0;31m    print(string(:1:2))\u001b[0m\n\u001b[0m                 ^\u001b[0m\n\u001b[0;31mSyntaxError\u001b[0m\u001b[0;31m:\u001b[0m invalid syntax\n"
     ]
    }
   ],
   "source": [
    "# slicing\n",
    "print(string[0:3]) # return first 3 characters\n",
    "print(string[:4]) # return characters between 0 and 4 (without 4th element)\n",
    "print(string[1:]) # return everything past element at 1st position\n",
    "print(string[:]) # return everything "
   ]
  },
  {
   "cell_type": "code",
   "execution_count": 32,
   "metadata": {},
   "outputs": [
    {
     "name": "stdout",
     "output_type": "stream",
     "text": [
      "naqjJ\n",
      "dsvppFEVSnk\n",
      "knSVEFppvsd\n"
     ]
    }
   ],
   "source": [
    "# limit slicing \n",
    "# used for skipping elements and reversing\n",
    "string_slicing = 'dnsavqpjpJFIEOVNSLndk'\n",
    "\n",
    "# return every second element from the 1st to 10th position\n",
    "print(string_slicing[1:10:2]) \n",
    "\n",
    "# return every other element from beginning to the end \n",
    "print(string_slicing[::2])\n",
    "\n",
    "# return every other element from end to beginning -> reverse order\n",
    "print(string_slicing[::-2])\n",
    "\n",
    "# reverse order\n",
    "print(string_slicing[::-1])"
   ]
  },
  {
   "cell_type": "code",
   "execution_count": 20,
   "metadata": {},
   "outputs": [
    {
     "name": "stdout",
     "output_type": "stream",
     "text": [
      "example is\n"
     ]
    }
   ],
   "source": [
    "# concatenation\n",
    "print(string + ' is')"
   ]
  },
  {
   "cell_type": "code",
   "execution_count": 21,
   "metadata": {},
   "outputs": [
    {
     "name": "stdout",
     "output_type": "stream",
     "text": [
      "exampleexampleexample\n"
     ]
    }
   ],
   "source": [
    "# repetition\n",
    "print(string*3)"
   ]
  },
  {
   "cell_type": "markdown",
   "metadata": {},
   "source": [
    "### String Method calls\n",
    "\n",
    "Methods are functions that are associated with an act upon particular objects. They are attributes attached to objects that happen to reference callable functions which always have an implied subject. Functions are packages of code and method calls combine 2 operations at once: \n",
    "\n",
    "1. Attribute fetches → object.attribute → fetch the value of attribute in object \n",
    "2. Call expressions → function(arguments) → invoke the code of function passing zero or more comma separated arguments and return function’s value \n",
    "\n",
    "*object.method(arguments)*\n",
    "\n",
    "In simple words → Call method to process object with arguments"
   ]
  },
  {
   "cell_type": "code",
   "execution_count": 33,
   "metadata": {},
   "outputs": [
    {
     "name": "stdout",
     "output_type": "stream",
     "text": [
      "method catts\n"
     ]
    }
   ],
   "source": [
    "# Most common methods:\n",
    "# .replace() method \n",
    "line_method = 'method calls'\n",
    "print(line_method.replace('ll', 'tt'))"
   ]
  },
  {
   "cell_type": "code",
   "execution_count": 34,
   "metadata": {},
   "outputs": [
    {
     "name": "stdout",
     "output_type": "stream",
     "text": [
      "['m', 'e', 't', 'h', 'o', 'd', ' ', 'c', 'a', 'l', 'l', 's']\n"
     ]
    }
   ],
   "source": [
    "# .list() turns string into list\n",
    "print(list(line_method))"
   ]
  },
  {
   "cell_type": "code",
   "execution_count": 36,
   "metadata": {},
   "outputs": [
    {
     "name": "stdout",
     "output_type": "stream",
     "text": [
      "method calls\n"
     ]
    }
   ],
   "source": [
    "# .join() join at specific character\n",
    "list_converted = ''.join(line_method)\n",
    "print(list_converted)"
   ]
  },
  {
   "cell_type": "code",
   "execution_count": 24,
   "metadata": {},
   "outputs": [
    {
     "name": "stdout",
     "output_type": "stream",
     "text": [
      "snao.\n"
     ]
    }
   ],
   "source": [
    "# .rstrip() removes any white space at the end of the string \n",
    "line = 'snao.      '\n",
    "x = line.rstrip()\n",
    "print(x)"
   ]
  },
  {
   "cell_type": "code",
   "execution_count": 25,
   "metadata": {},
   "outputs": [
    {
     "name": "stdout",
     "output_type": "stream",
     "text": [
      "['aaa', 'bbbb', 'cc', 'dddddd']\n"
     ]
    }
   ],
   "source": [
    "# .split('') split string at every specific element\n",
    "line_split = 'aaa;bbbb;cc;dddddd'\n",
    "line_splitted = line_split.split(';')\n",
    "print(line_splitted)"
   ]
  },
  {
   "cell_type": "code",
   "execution_count": 27,
   "metadata": {
    "scrolled": true
   },
   "outputs": [
    {
     "name": "stdout",
     "output_type": "stream",
     "text": [
      "['this', 'line', 'is', 'an', 'example']\n"
     ]
    }
   ],
   "source": [
    "# combining two methods -> always reads it from left to right\n",
    "line_example = 'this.line.is.an.example   '\n",
    "print(line_example.rstrip().split('.'))"
   ]
  },
  {
   "cell_type": "code",
   "execution_count": 37,
   "metadata": {},
   "outputs": [
    {
     "name": "stdout",
     "output_type": "stream",
     "text": [
      " THIS SENTENCE IS AN EXAMPLE\n"
     ]
    }
   ],
   "source": [
    "# with .upper() to turn all character into upper case\n",
    "line_lower_case = ' this sentence is an example'\n",
    "line_upper = line_lower_case.upper()\n",
    "print(line_upper)"
   ]
  },
  {
   "cell_type": "markdown",
   "metadata": {},
   "source": [
    "### String formatting - f string"
   ]
  },
  {
   "cell_type": "code",
   "execution_count": 39,
   "metadata": {},
   "outputs": [
    {
     "name": "stdout",
     "output_type": "stream",
     "text": [
      "cats are cuddly but weird\n"
     ]
    }
   ],
   "source": [
    "var1 = 'cats'\n",
    "var2 = 'weird'\n",
    "var3 = f\"{var1} are cuddly but {var2}\"\n",
    "print(var3)"
   ]
  }
 ],
 "metadata": {
  "kernelspec": {
   "display_name": "Python 3 (ipykernel)",
   "language": "python",
   "name": "python3"
  },
  "language_info": {
   "codemirror_mode": {
    "name": "ipython",
    "version": 3
   },
   "file_extension": ".py",
   "mimetype": "text/x-python",
   "name": "python",
   "nbconvert_exporter": "python",
   "pygments_lexer": "ipython3",
   "version": "3.9.17"
  }
 },
 "nbformat": 4,
 "nbformat_minor": 2
}
