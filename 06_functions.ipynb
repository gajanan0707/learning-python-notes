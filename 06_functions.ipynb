{
 "cells": [
  {
   "cell_type": "markdown",
   "metadata": {},
   "source": [
    "### Functions\n",
    "\n",
    "- a piece of reusable code\n",
    "- def is an executable statement\n",
    "- def creates a new function object at runtime and assigns it to function's name\n",
    "- function objects might cintain arbitrary user defined attributes\n",
    "- lambda creates an object but returns it as a result\n",
    "- return sends result object back to the caller\n",
    "- yield sends a result object back to the caller, but remembers where it left off \n",
    "- scopes are places where variables are stored \n",
    "- global variables are assigned at a module-level\n",
    "- nonlocal declares enclosing function variable that are to be assigned \n",
    "- arguments are passed by assignement \n",
    "- arguments are passed by position (from left to right) unless you say otherwise\n",
    "- arguments return values and variables are not declared"
   ]
  },
  {
   "cell_type": "code",
   "execution_count": 7,
   "metadata": {},
   "outputs": [],
   "source": [
    "# to define a function \n",
    "def times(x,y):\n",
    "    return x*y"
   ]
  },
  {
   "cell_type": "code",
   "execution_count": 9,
   "metadata": {},
   "outputs": [
    {
     "name": "stdout",
     "output_type": "stream",
     "text": [
      "8\n"
     ]
    }
   ],
   "source": [
    "result = times(2,4)\n",
    "print(result)"
   ]
  },
  {
   "cell_type": "code",
   "execution_count": 8,
   "metadata": {
    "scrolled": true
   },
   "outputs": [
    {
     "name": "stdout",
     "output_type": "stream",
     "text": [
      "NiNiNiNi\n"
     ]
    }
   ],
   "source": [
    "# functions are typeless\n",
    "result2 = times('Ni', 4)\n",
    "print(result2)"
   ]
  },
  {
   "cell_type": "markdown",
   "metadata": {},
   "source": [
    "#### Polymorphism "
   ]
  },
  {
   "cell_type": "markdown",
   "metadata": {},
   "source": [
    "Polymorphism in Python, particularly in the context of functions, refers to the ability to use a single function name to handle different types of inputs. \n",
    "This concept is rooted in the principle that a function can operate on objects of different types and classes. It's a key feature in Python that contributes to its flexibility and ease of use.\n",
    "\n",
    "The idea of duck typing - the code isn't supposed to care if an object is a duck, only that it quacks."
   ]
  },
  {
   "cell_type": "code",
   "execution_count": null,
   "metadata": {},
   "outputs": [],
   "source": [
    "# len function can be applied to diverse types \n",
    "print(len(\"Hello\"))  # String\n",
    "print(len([1, 2, 3]))  # List\n",
    "print(len((1, 2, 3)))  # Tuple"
   ]
  },
  {
   "cell_type": "markdown",
   "metadata": {},
   "source": [
    "### Scopes\n",
    "\n",
    "- scope is the location of a name's assignment in the source code\n",
    "- python uses the location of the assignment of a name to associate it with a particular namespace\n",
    "- the place where you assign a name in your code deterines the namespace it will live in and hence its scope of visibility\n",
    "\n",
    "variables can be assigned in 3 different places:\n",
    "\n",
    "1. Global -> top level of the eclosing module file\n",
    "2. Local -> at the level of the function\n",
    "3. Enclosed -> in an encloding function"
   ]
  },
  {
   "cell_type": "code",
   "execution_count": null,
   "metadata": {},
   "outputs": [],
   "source": [
    "# this is a global variable (outside of any def or lambda)\n",
    "x = 99 \n",
    "\n",
    "# this is a local variable (local to the function)\n",
    "def func():\n",
    "    x = 88\n",
    "\n",
    "# this is a nonlocal variable\n",
    "def outer_function():\n",
    "    outer_var = \"I'm outside!\"  # local variable \n",
    "\n",
    "    def inner_function():\n",
    "        nonlocal outer_var  # Declaring nonlocal variable (characteristics of nested functions)\n",
    "        outer_var = \"I've been changed inside!\""
   ]
  },
  {
   "cell_type": "markdown",
   "metadata": {},
   "source": [
    "- names assigned inside a def can only be seen by the code within def\n",
    "- names inside def do not clash with variables outside the def even if the same names are used elsewhere\n",
    "- each call to a function creates a new local scope"
   ]
  },
  {
   "cell_type": "markdown",
   "metadata": {},
   "source": [
    "### LEGB Rule\n",
    "\n",
    "When a cariable gets referenced, the script searches for it in 4 scopes:\n",
    "- L -> first in local scope \n",
    "- E -> then in enclosing defs and lambdas \n",
    "- G -> then the Global\n",
    "- B -> Built-in scope (len, range, map functions)\n",
    "\n",
    "The search STOPS the moment first name is found. If the name is not found, python will return an error."
   ]
  },
  {
   "cell_type": "markdown",
   "metadata": {},
   "source": [
    "#### Comprehensions and exception variables\n",
    "\n",
    "- Comprehension variables are local to expression itself in all comprehension forms\n",
    "- Exception variables used to reference the raised exception in a try statement handler such as except E as X"
   ]
  },
  {
   "cell_type": "code",
   "execution_count": 4,
   "metadata": {},
   "outputs": [
    {
     "name": "stdout",
     "output_type": "stream",
     "text": [
      "6\n"
     ]
    }
   ],
   "source": [
    "# Global variable can be references in the function\n",
    "x = 5  \n",
    "\n",
    "def my_function(y):\n",
    "    summ = y + x  \n",
    "    print(summ)\n",
    "\n",
    "my_function(1)"
   ]
  },
  {
   "cell_type": "markdown",
   "metadata": {},
   "source": [
    "#### Trying to modify global within a function \n",
    "\n",
    "Trying to modify a global variable within a function is the most common beginners mistake."
   ]
  },
  {
   "cell_type": "code",
   "execution_count": 11,
   "metadata": {},
   "outputs": [
    {
     "name": "stdout",
     "output_type": "stream",
     "text": [
      "[4, 5, 6]\n"
     ]
    }
   ],
   "source": [
    "my_list = [1, 2, 3]  # Global variable\n",
    "\n",
    "def replace_list():\n",
    "    my_list = [4, 5, 6]  # Trying to assign a new object to the global variable\n",
    "    print(my_list)\n",
    "\n",
    "replace_list()"
   ]
  },
  {
   "cell_type": "markdown",
   "metadata": {},
   "source": [
    "it looks like my_list has been modified but that's not true. the function created a new, local variable with the same name and that get's printed.\n",
    "\n",
    "because when I call print(my_list) after calling replace_list() the global my_list will get printed."
   ]
  },
  {
   "cell_type": "code",
   "execution_count": 12,
   "metadata": {},
   "outputs": [
    {
     "name": "stdout",
     "output_type": "stream",
     "text": [
      "[1, 2, 3]\n"
     ]
    }
   ],
   "source": [
    " print(my_list)"
   ]
  },
  {
   "cell_type": "code",
   "execution_count": 13,
   "metadata": {},
   "outputs": [
    {
     "name": "stdout",
     "output_type": "stream",
     "text": [
      "[1, 2, 3, 4]\n"
     ]
    }
   ],
   "source": [
    "my_list = [1, 2, 3]  # Global variable\n",
    "\n",
    "def add_element():\n",
    "    my_list.append(4)  # Trying to modify the global variable directly\n",
    "    print(my_list)\n",
    "\n",
    "add_element()"
   ]
  },
  {
   "cell_type": "code",
   "execution_count": 14,
   "metadata": {},
   "outputs": [
    {
     "name": "stdout",
     "output_type": "stream",
     "text": [
      "[1, 2, 3, 4]\n"
     ]
    }
   ],
   "source": [
    "print(my_list)"
   ]
  },
  {
   "cell_type": "markdown",
   "metadata": {},
   "source": [
    "this code will work because the list got modified directly within the function. BUT trying to modify a global variable (without writing \"global\") by ASSIGNMENT won't work.\n",
    "\n",
    "##### Global names must be declared ONLY if they are assigned within a function\n",
    "##### Global names may be references within a function without being declared"
   ]
  },
  {
   "cell_type": "code",
   "execution_count": 15,
   "metadata": {},
   "outputs": [
    {
     "name": "stdout",
     "output_type": "stream",
     "text": [
      "[4, 5, 6]\n",
      "[4, 5, 6]\n"
     ]
    }
   ],
   "source": [
    "my_list = [1, 2, 3]  # Global variable\n",
    "\n",
    "def replace_list():\n",
    "    global my_list  # declaring my_list as a global within the function\n",
    "    my_list = [4, 5, 6]  # Trying to assign a new object to the global variable\n",
    "    print(my_list)\n",
    "\n",
    "replace_list()\n",
    "print(my_list)"
   ]
  },
  {
   "cell_type": "markdown",
   "metadata": {},
   "source": [
    "##### in general, it's good to avoid using global variables, unless I have an api key somewhere in the code"
   ]
  },
  {
   "cell_type": "markdown",
   "metadata": {},
   "source": [
    "### factory functions: closures\n",
    "\n",
    "- the function object remembers values in enclosing scopes regardless of whether those scopes are still present in the memory\n",
    "\n",
    "- this is used by programs that need to generate event handlers on the fly"
   ]
  },
  {
   "cell_type": "code",
   "execution_count": 16,
   "metadata": {},
   "outputs": [
    {
     "name": "stdout",
     "output_type": "stream",
     "text": [
      "<function maker.<locals>.action at 0x109be5af0>\n"
     ]
    }
   ],
   "source": [
    "def maker(N):\n",
    "    def action(X):\n",
    "        return X*N\n",
    "    return action\n",
    "\n",
    "# outer function generates and returns a nested function without calling it \n",
    "f = maker(2)\n",
    "print(f)"
   ]
  },
  {
   "cell_type": "code",
   "execution_count": 17,
   "metadata": {},
   "outputs": [
    {
     "name": "stdout",
     "output_type": "stream",
     "text": [
      "6\n"
     ]
    }
   ],
   "source": [
    "print(f(3))"
   ]
  },
  {
   "cell_type": "code",
   "execution_count": 18,
   "metadata": {},
   "outputs": [
    {
     "name": "stdout",
     "output_type": "stream",
     "text": [
      "40\n"
     ]
    }
   ],
   "source": [
    "print(f(20))"
   ]
  },
  {
   "cell_type": "code",
   "execution_count": 19,
   "metadata": {},
   "outputs": [
    {
     "name": "stdout",
     "output_type": "stream",
     "text": [
      "100\n"
     ]
    }
   ],
   "source": [
    "# the nested function \"remembers\" the value 2 \n",
    "# it's possible to call the outer function and change the value \n",
    "g = maker(5)\n",
    "print(g(20))"
   ]
  },
  {
   "cell_type": "markdown",
   "metadata": {},
   "source": [
    "- In a closure, the inner function remembers the environment in which it was created\n",
    "- This is useful for preserving a certain state or context across multiple function calls."
   ]
  }
 ],
 "metadata": {
  "kernelspec": {
   "display_name": "Python 3 (ipykernel)",
   "language": "python",
   "name": "python3"
  },
  "language_info": {
   "codemirror_mode": {
    "name": "ipython",
    "version": 3
   },
   "file_extension": ".py",
   "mimetype": "text/x-python",
   "name": "python",
   "nbconvert_exporter": "python",
   "pygments_lexer": "ipython3",
   "version": "3.9.17"
  }
 },
 "nbformat": 4,
 "nbformat_minor": 2
}
