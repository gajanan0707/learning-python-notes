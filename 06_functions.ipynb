{
 "cells": [
  {
   "cell_type": "markdown",
   "metadata": {},
   "source": [
    "### Functions\n",
    "\n",
    "- a piece of reusable code\n",
    "- def is an executable statement\n",
    "- def creates a new function object at runtime and assigns it to function's name\n",
    "- function objects might cintain arbitrary user defined attributes\n",
    "- lambda creates an object but returns it as a result\n",
    "- return sends result object back to the caller\n",
    "- yield sends a result object back to the caller, but remembers where it left off \n",
    "- scopes are places where variables are stored \n",
    "- global variables are assigned at a module-level\n",
    "- nonlocal declares enclosing function variable that are to be assigned \n",
    "- arguments are passed by assignement \n",
    "- arguments are passed by position (from left to right) unless you say otherwise\n",
    "- arguments return values and variables are not declared"
   ]
  },
  {
   "cell_type": "code",
   "execution_count": 7,
   "metadata": {},
   "outputs": [],
   "source": [
    "# to define a function \n",
    "def times(x,y):\n",
    "    return x*y"
   ]
  },
  {
   "cell_type": "code",
   "execution_count": 9,
   "metadata": {},
   "outputs": [
    {
     "name": "stdout",
     "output_type": "stream",
     "text": [
      "8\n"
     ]
    }
   ],
   "source": [
    "result = times(2,4)\n",
    "print(result)"
   ]
  },
  {
   "cell_type": "code",
   "execution_count": 8,
   "metadata": {
    "scrolled": true
   },
   "outputs": [
    {
     "name": "stdout",
     "output_type": "stream",
     "text": [
      "NiNiNiNi\n"
     ]
    }
   ],
   "source": [
    "# functions are typeless\n",
    "result2 = times('Ni', 4)\n",
    "print(result2)"
   ]
  },
  {
   "cell_type": "markdown",
   "metadata": {},
   "source": [
    "#### Polymorphism "
   ]
  },
  {
   "cell_type": "markdown",
   "metadata": {},
   "source": [
    "Polymorphism in Python, particularly in the context of functions, refers to the ability to use a single function name to handle different types of inputs. \n",
    "This concept is rooted in the principle that a function can operate on objects of different types and classes. It's a key feature in Python that contributes to its flexibility and ease of use.\n",
    "\n",
    "The idea of duck typing - the code isn't supposed to care if an object is a duck, only that it quacks."
   ]
  },
  {
   "cell_type": "code",
   "execution_count": null,
   "metadata": {},
   "outputs": [],
   "source": [
    "# len function can be applied to diverse types \n",
    "print(len(\"Hello\"))  # String\n",
    "print(len([1, 2, 3]))  # List\n",
    "print(len((1, 2, 3)))  # Tuple"
   ]
  }
 ],
 "metadata": {
  "kernelspec": {
   "display_name": "Python 3 (ipykernel)",
   "language": "python",
   "name": "python3"
  },
  "language_info": {
   "codemirror_mode": {
    "name": "ipython",
    "version": 3
   },
   "file_extension": ".py",
   "mimetype": "text/x-python",
   "name": "python",
   "nbconvert_exporter": "python",
   "pygments_lexer": "ipython3",
   "version": "3.9.17"
  }
 },
 "nbformat": 4,
 "nbformat_minor": 2
}
